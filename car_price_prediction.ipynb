{
 "cells": [
  {
   "cell_type": "code",
   "execution_count": 147,
   "id": "877ca5ef",
   "metadata": {},
   "outputs": [],
   "source": [
    "import numpy as np\n",
    "import pandas as pd\n",
    "import matplotlib.pyplot as plt\n",
    "%matplotlib inline"
   ]
  },
  {
   "cell_type": "code",
   "execution_count": 148,
   "id": "9dd83990",
   "metadata": {},
   "outputs": [],
   "source": [
    "df = pd.read_csv(\"car_price.csv\")"
   ]
  },
  {
   "cell_type": "code",
   "execution_count": 149,
   "id": "70ffdb30",
   "metadata": {},
   "outputs": [
    {
     "data": {
      "text/html": [
       "<div>\n",
       "<style scoped>\n",
       "    .dataframe tbody tr th:only-of-type {\n",
       "        vertical-align: middle;\n",
       "    }\n",
       "\n",
       "    .dataframe tbody tr th {\n",
       "        vertical-align: top;\n",
       "    }\n",
       "\n",
       "    .dataframe thead th {\n",
       "        text-align: right;\n",
       "    }\n",
       "</style>\n",
       "<table border=\"1\" class=\"dataframe\">\n",
       "  <thead>\n",
       "    <tr style=\"text-align: right;\">\n",
       "      <th></th>\n",
       "      <th>CarName</th>\n",
       "      <th>carbody</th>\n",
       "      <th>drivewheel</th>\n",
       "      <th>enginelocation</th>\n",
       "      <th>fueltype</th>\n",
       "      <th>aspiration</th>\n",
       "      <th>doornumber</th>\n",
       "      <th>cylindernumber</th>\n",
       "      <th>enginetype</th>\n",
       "      <th>fuelsystem</th>\n",
       "      <th>...</th>\n",
       "      <th>curbweight</th>\n",
       "      <th>enginesize</th>\n",
       "      <th>boreratio</th>\n",
       "      <th>stroke</th>\n",
       "      <th>compressionratio</th>\n",
       "      <th>horsepower</th>\n",
       "      <th>peakrpm</th>\n",
       "      <th>citympg</th>\n",
       "      <th>highwaympg</th>\n",
       "      <th>price</th>\n",
       "    </tr>\n",
       "  </thead>\n",
       "  <tbody>\n",
       "    <tr>\n",
       "      <th>0</th>\n",
       "      <td>alfa-romero giulia</td>\n",
       "      <td>convertible</td>\n",
       "      <td>rwd</td>\n",
       "      <td>front</td>\n",
       "      <td>gas</td>\n",
       "      <td>std</td>\n",
       "      <td>two</td>\n",
       "      <td>four</td>\n",
       "      <td>dohc</td>\n",
       "      <td>mpfi</td>\n",
       "      <td>...</td>\n",
       "      <td>2548</td>\n",
       "      <td>130</td>\n",
       "      <td>3.47</td>\n",
       "      <td>2.68</td>\n",
       "      <td>9.0</td>\n",
       "      <td>111</td>\n",
       "      <td>5000</td>\n",
       "      <td>21</td>\n",
       "      <td>27</td>\n",
       "      <td>13495.0</td>\n",
       "    </tr>\n",
       "    <tr>\n",
       "      <th>1</th>\n",
       "      <td>alfa-romero stelvio</td>\n",
       "      <td>convertible</td>\n",
       "      <td>rwd</td>\n",
       "      <td>front</td>\n",
       "      <td>gas</td>\n",
       "      <td>std</td>\n",
       "      <td>two</td>\n",
       "      <td>four</td>\n",
       "      <td>dohc</td>\n",
       "      <td>mpfi</td>\n",
       "      <td>...</td>\n",
       "      <td>2548</td>\n",
       "      <td>130</td>\n",
       "      <td>3.47</td>\n",
       "      <td>2.68</td>\n",
       "      <td>9.0</td>\n",
       "      <td>111</td>\n",
       "      <td>5000</td>\n",
       "      <td>21</td>\n",
       "      <td>27</td>\n",
       "      <td>16500.0</td>\n",
       "    </tr>\n",
       "    <tr>\n",
       "      <th>2</th>\n",
       "      <td>alfa-romero Quadrifoglio</td>\n",
       "      <td>hatchback</td>\n",
       "      <td>rwd</td>\n",
       "      <td>front</td>\n",
       "      <td>gas</td>\n",
       "      <td>std</td>\n",
       "      <td>two</td>\n",
       "      <td>six</td>\n",
       "      <td>ohcv</td>\n",
       "      <td>mpfi</td>\n",
       "      <td>...</td>\n",
       "      <td>2823</td>\n",
       "      <td>152</td>\n",
       "      <td>2.68</td>\n",
       "      <td>3.47</td>\n",
       "      <td>9.0</td>\n",
       "      <td>154</td>\n",
       "      <td>5000</td>\n",
       "      <td>19</td>\n",
       "      <td>26</td>\n",
       "      <td>16500.0</td>\n",
       "    </tr>\n",
       "    <tr>\n",
       "      <th>3</th>\n",
       "      <td>audi 100 ls</td>\n",
       "      <td>sedan</td>\n",
       "      <td>fwd</td>\n",
       "      <td>front</td>\n",
       "      <td>gas</td>\n",
       "      <td>std</td>\n",
       "      <td>four</td>\n",
       "      <td>four</td>\n",
       "      <td>ohc</td>\n",
       "      <td>mpfi</td>\n",
       "      <td>...</td>\n",
       "      <td>2337</td>\n",
       "      <td>109</td>\n",
       "      <td>3.19</td>\n",
       "      <td>3.40</td>\n",
       "      <td>10.0</td>\n",
       "      <td>102</td>\n",
       "      <td>5500</td>\n",
       "      <td>24</td>\n",
       "      <td>30</td>\n",
       "      <td>13950.0</td>\n",
       "    </tr>\n",
       "    <tr>\n",
       "      <th>4</th>\n",
       "      <td>audi 100ls</td>\n",
       "      <td>sedan</td>\n",
       "      <td>4wd</td>\n",
       "      <td>front</td>\n",
       "      <td>gas</td>\n",
       "      <td>std</td>\n",
       "      <td>four</td>\n",
       "      <td>five</td>\n",
       "      <td>ohc</td>\n",
       "      <td>mpfi</td>\n",
       "      <td>...</td>\n",
       "      <td>2824</td>\n",
       "      <td>136</td>\n",
       "      <td>3.19</td>\n",
       "      <td>3.40</td>\n",
       "      <td>8.0</td>\n",
       "      <td>115</td>\n",
       "      <td>5500</td>\n",
       "      <td>18</td>\n",
       "      <td>22</td>\n",
       "      <td>17450.0</td>\n",
       "    </tr>\n",
       "  </tbody>\n",
       "</table>\n",
       "<p>5 rows × 25 columns</p>\n",
       "</div>"
      ],
      "text/plain": [
       "                    CarName      carbody drivewheel enginelocation fueltype  \\\n",
       "0        alfa-romero giulia  convertible        rwd          front      gas   \n",
       "1       alfa-romero stelvio  convertible        rwd          front      gas   \n",
       "2  alfa-romero Quadrifoglio    hatchback        rwd          front      gas   \n",
       "3               audi 100 ls        sedan        fwd          front      gas   \n",
       "4                audi 100ls        sedan        4wd          front      gas   \n",
       "\n",
       "  aspiration doornumber cylindernumber enginetype fuelsystem  ...  curbweight  \\\n",
       "0        std        two           four       dohc       mpfi  ...        2548   \n",
       "1        std        two           four       dohc       mpfi  ...        2548   \n",
       "2        std        two            six       ohcv       mpfi  ...        2823   \n",
       "3        std       four           four        ohc       mpfi  ...        2337   \n",
       "4        std       four           five        ohc       mpfi  ...        2824   \n",
       "\n",
       "   enginesize  boreratio  stroke  compressionratio  horsepower  peakrpm  \\\n",
       "0         130       3.47    2.68               9.0         111     5000   \n",
       "1         130       3.47    2.68               9.0         111     5000   \n",
       "2         152       2.68    3.47               9.0         154     5000   \n",
       "3         109       3.19    3.40              10.0         102     5500   \n",
       "4         136       3.19    3.40               8.0         115     5500   \n",
       "\n",
       "   citympg  highwaympg    price  \n",
       "0       21          27  13495.0  \n",
       "1       21          27  16500.0  \n",
       "2       19          26  16500.0  \n",
       "3       24          30  13950.0  \n",
       "4       18          22  17450.0  \n",
       "\n",
       "[5 rows x 25 columns]"
      ]
     },
     "execution_count": 149,
     "metadata": {},
     "output_type": "execute_result"
    }
   ],
   "source": [
    "df.head()"
   ]
  },
  {
   "cell_type": "code",
   "execution_count": 150,
   "id": "24534670",
   "metadata": {},
   "outputs": [
    {
     "name": "stdout",
     "output_type": "stream",
     "text": [
      "<class 'pandas.core.frame.DataFrame'>\n",
      "RangeIndex: 210 entries, 0 to 209\n",
      "Data columns (total 25 columns):\n",
      " #   Column            Non-Null Count  Dtype  \n",
      "---  ------            --------------  -----  \n",
      " 0   CarName           210 non-null    object \n",
      " 1   carbody           210 non-null    object \n",
      " 2   drivewheel        210 non-null    object \n",
      " 3   enginelocation    210 non-null    object \n",
      " 4   fueltype          210 non-null    object \n",
      " 5   aspiration        210 non-null    object \n",
      " 6   doornumber        210 non-null    object \n",
      " 7   cylindernumber    210 non-null    object \n",
      " 8   enginetype        210 non-null    object \n",
      " 9   fuelsystem        210 non-null    object \n",
      " 10  symboling         210 non-null    int64  \n",
      " 11  wheelbase         210 non-null    float64\n",
      " 12  carlength         210 non-null    float64\n",
      " 13  carwidth          210 non-null    float64\n",
      " 14  carheight         210 non-null    float64\n",
      " 15  curbweight        210 non-null    int64  \n",
      " 16  enginesize        210 non-null    int64  \n",
      " 17  boreratio         210 non-null    float64\n",
      " 18  stroke            210 non-null    float64\n",
      " 19  compressionratio  210 non-null    float64\n",
      " 20  horsepower        210 non-null    int64  \n",
      " 21  peakrpm           210 non-null    int64  \n",
      " 22  citympg           210 non-null    int64  \n",
      " 23  highwaympg        210 non-null    int64  \n",
      " 24  price             210 non-null    float64\n",
      "dtypes: float64(8), int64(7), object(10)\n",
      "memory usage: 41.1+ KB\n"
     ]
    }
   ],
   "source": [
    "df.info()"
   ]
  },
  {
   "cell_type": "code",
   "execution_count": 151,
   "id": "3e6f28a7",
   "metadata": {},
   "outputs": [
    {
     "data": {
      "text/plain": [
       "CarName             0\n",
       "carbody             0\n",
       "drivewheel          0\n",
       "enginelocation      0\n",
       "fueltype            0\n",
       "aspiration          0\n",
       "doornumber          0\n",
       "cylindernumber      0\n",
       "enginetype          0\n",
       "fuelsystem          0\n",
       "symboling           0\n",
       "wheelbase           0\n",
       "carlength           0\n",
       "carwidth            0\n",
       "carheight           0\n",
       "curbweight          0\n",
       "enginesize          0\n",
       "boreratio           0\n",
       "stroke              0\n",
       "compressionratio    0\n",
       "horsepower          0\n",
       "peakrpm             0\n",
       "citympg             0\n",
       "highwaympg          0\n",
       "price               0\n",
       "dtype: int64"
      ]
     },
     "execution_count": 151,
     "metadata": {},
     "output_type": "execute_result"
    }
   ],
   "source": [
    "df.isnull().sum()"
   ]
  },
  {
   "cell_type": "code",
   "execution_count": 152,
   "id": "166dcfcd",
   "metadata": {},
   "outputs": [
    {
     "data": {
      "text/plain": [
       "array(['gas', 'diesel'], dtype=object)"
      ]
     },
     "execution_count": 152,
     "metadata": {},
     "output_type": "execute_result"
    }
   ],
   "source": [
    "df[\"fueltype\"].unique()"
   ]
  },
  {
   "cell_type": "code",
   "execution_count": 153,
   "id": "ef8240f8",
   "metadata": {},
   "outputs": [
    {
     "data": {
      "text/html": [
       "<div>\n",
       "<style scoped>\n",
       "    .dataframe tbody tr th:only-of-type {\n",
       "        vertical-align: middle;\n",
       "    }\n",
       "\n",
       "    .dataframe tbody tr th {\n",
       "        vertical-align: top;\n",
       "    }\n",
       "\n",
       "    .dataframe thead th {\n",
       "        text-align: right;\n",
       "    }\n",
       "</style>\n",
       "<table border=\"1\" class=\"dataframe\">\n",
       "  <thead>\n",
       "    <tr style=\"text-align: right;\">\n",
       "      <th></th>\n",
       "      <th>symboling</th>\n",
       "      <th>wheelbase</th>\n",
       "      <th>carlength</th>\n",
       "      <th>carwidth</th>\n",
       "      <th>carheight</th>\n",
       "      <th>curbweight</th>\n",
       "      <th>enginesize</th>\n",
       "      <th>boreratio</th>\n",
       "      <th>stroke</th>\n",
       "      <th>compressionratio</th>\n",
       "      <th>horsepower</th>\n",
       "      <th>peakrpm</th>\n",
       "      <th>citympg</th>\n",
       "      <th>highwaympg</th>\n",
       "      <th>price</th>\n",
       "    </tr>\n",
       "  </thead>\n",
       "  <tbody>\n",
       "    <tr>\n",
       "      <th>symboling</th>\n",
       "      <td>1.000000</td>\n",
       "      <td>-0.532026</td>\n",
       "      <td>-0.363187</td>\n",
       "      <td>-0.239259</td>\n",
       "      <td>-0.550400</td>\n",
       "      <td>-0.239932</td>\n",
       "      <td>-0.111359</td>\n",
       "      <td>-0.136730</td>\n",
       "      <td>-0.007183</td>\n",
       "      <td>-0.188287</td>\n",
       "      <td>0.067218</td>\n",
       "      <td>0.280257</td>\n",
       "      <td>-0.031693</td>\n",
       "      <td>0.041627</td>\n",
       "      <td>-0.086845</td>\n",
       "    </tr>\n",
       "    <tr>\n",
       "      <th>wheelbase</th>\n",
       "      <td>-0.532026</td>\n",
       "      <td>1.000000</td>\n",
       "      <td>0.879582</td>\n",
       "      <td>0.793572</td>\n",
       "      <td>0.610518</td>\n",
       "      <td>0.782248</td>\n",
       "      <td>0.557928</td>\n",
       "      <td>0.497753</td>\n",
       "      <td>0.166168</td>\n",
       "      <td>0.277556</td>\n",
       "      <td>0.335200</td>\n",
       "      <td>-0.381358</td>\n",
       "      <td>-0.461592</td>\n",
       "      <td>-0.542363</td>\n",
       "      <td>0.557646</td>\n",
       "    </tr>\n",
       "    <tr>\n",
       "      <th>carlength</th>\n",
       "      <td>-0.363187</td>\n",
       "      <td>0.879582</td>\n",
       "      <td>1.000000</td>\n",
       "      <td>0.841459</td>\n",
       "      <td>0.510410</td>\n",
       "      <td>0.880246</td>\n",
       "      <td>0.674038</td>\n",
       "      <td>0.611594</td>\n",
       "      <td>0.135670</td>\n",
       "      <td>0.183211</td>\n",
       "      <td>0.535662</td>\n",
       "      <td>-0.305852</td>\n",
       "      <td>-0.661962</td>\n",
       "      <td>-0.702354</td>\n",
       "      <td>0.666909</td>\n",
       "    </tr>\n",
       "    <tr>\n",
       "      <th>carwidth</th>\n",
       "      <td>-0.239259</td>\n",
       "      <td>0.793572</td>\n",
       "      <td>0.841459</td>\n",
       "      <td>1.000000</td>\n",
       "      <td>0.298029</td>\n",
       "      <td>0.867633</td>\n",
       "      <td>0.728631</td>\n",
       "      <td>0.565886</td>\n",
       "      <td>0.188131</td>\n",
       "      <td>0.201087</td>\n",
       "      <td>0.629106</td>\n",
       "      <td>-0.230430</td>\n",
       "      <td>-0.635076</td>\n",
       "      <td>-0.674418</td>\n",
       "      <td>0.746922</td>\n",
       "    </tr>\n",
       "    <tr>\n",
       "      <th>carheight</th>\n",
       "      <td>-0.550400</td>\n",
       "      <td>0.610518</td>\n",
       "      <td>0.510410</td>\n",
       "      <td>0.298029</td>\n",
       "      <td>1.000000</td>\n",
       "      <td>0.321434</td>\n",
       "      <td>0.074390</td>\n",
       "      <td>0.188912</td>\n",
       "      <td>-0.048266</td>\n",
       "      <td>0.283707</td>\n",
       "      <td>-0.106740</td>\n",
       "      <td>-0.334761</td>\n",
       "      <td>-0.054374</td>\n",
       "      <td>-0.121053</td>\n",
       "      <td>0.121077</td>\n",
       "    </tr>\n",
       "    <tr>\n",
       "      <th>curbweight</th>\n",
       "      <td>-0.239932</td>\n",
       "      <td>0.782248</td>\n",
       "      <td>0.880246</td>\n",
       "      <td>0.867633</td>\n",
       "      <td>0.321434</td>\n",
       "      <td>1.000000</td>\n",
       "      <td>0.843832</td>\n",
       "      <td>0.654058</td>\n",
       "      <td>0.174021</td>\n",
       "      <td>0.178102</td>\n",
       "      <td>0.735942</td>\n",
       "      <td>-0.286913</td>\n",
       "      <td>-0.748024</td>\n",
       "      <td>-0.793639</td>\n",
       "      <td>0.823052</td>\n",
       "    </tr>\n",
       "    <tr>\n",
       "      <th>enginesize</th>\n",
       "      <td>-0.111359</td>\n",
       "      <td>0.557928</td>\n",
       "      <td>0.674038</td>\n",
       "      <td>0.728631</td>\n",
       "      <td>0.074390</td>\n",
       "      <td>0.843832</td>\n",
       "      <td>1.000000</td>\n",
       "      <td>0.583145</td>\n",
       "      <td>0.205172</td>\n",
       "      <td>0.042543</td>\n",
       "      <td>0.806667</td>\n",
       "      <td>-0.255901</td>\n",
       "      <td>-0.649632</td>\n",
       "      <td>-0.674187</td>\n",
       "      <td>0.872868</td>\n",
       "    </tr>\n",
       "    <tr>\n",
       "      <th>boreratio</th>\n",
       "      <td>-0.136730</td>\n",
       "      <td>0.497753</td>\n",
       "      <td>0.611594</td>\n",
       "      <td>0.565886</td>\n",
       "      <td>0.188912</td>\n",
       "      <td>0.654058</td>\n",
       "      <td>0.583145</td>\n",
       "      <td>1.000000</td>\n",
       "      <td>-0.044290</td>\n",
       "      <td>0.038618</td>\n",
       "      <td>0.563825</td>\n",
       "      <td>-0.271613</td>\n",
       "      <td>-0.576186</td>\n",
       "      <td>-0.583992</td>\n",
       "      <td>0.545726</td>\n",
       "    </tr>\n",
       "    <tr>\n",
       "      <th>stroke</th>\n",
       "      <td>-0.007183</td>\n",
       "      <td>0.166168</td>\n",
       "      <td>0.135670</td>\n",
       "      <td>0.188131</td>\n",
       "      <td>-0.048266</td>\n",
       "      <td>0.174021</td>\n",
       "      <td>0.205172</td>\n",
       "      <td>-0.044290</td>\n",
       "      <td>1.000000</td>\n",
       "      <td>0.199625</td>\n",
       "      <td>0.077051</td>\n",
       "      <td>-0.080618</td>\n",
       "      <td>-0.038623</td>\n",
       "      <td>-0.043555</td>\n",
       "      <td>0.076275</td>\n",
       "    </tr>\n",
       "    <tr>\n",
       "      <th>compressionratio</th>\n",
       "      <td>-0.188287</td>\n",
       "      <td>0.277556</td>\n",
       "      <td>0.183211</td>\n",
       "      <td>0.201087</td>\n",
       "      <td>0.283707</td>\n",
       "      <td>0.178102</td>\n",
       "      <td>0.042543</td>\n",
       "      <td>0.038618</td>\n",
       "      <td>0.199625</td>\n",
       "      <td>1.000000</td>\n",
       "      <td>-0.202138</td>\n",
       "      <td>-0.456067</td>\n",
       "      <td>0.320092</td>\n",
       "      <td>0.250408</td>\n",
       "      <td>0.066193</td>\n",
       "    </tr>\n",
       "    <tr>\n",
       "      <th>horsepower</th>\n",
       "      <td>0.067218</td>\n",
       "      <td>0.335200</td>\n",
       "      <td>0.535662</td>\n",
       "      <td>0.629106</td>\n",
       "      <td>-0.106740</td>\n",
       "      <td>0.735942</td>\n",
       "      <td>0.806667</td>\n",
       "      <td>0.563825</td>\n",
       "      <td>0.077051</td>\n",
       "      <td>-0.202138</td>\n",
       "      <td>1.000000</td>\n",
       "      <td>0.128729</td>\n",
       "      <td>-0.798487</td>\n",
       "      <td>-0.765773</td>\n",
       "      <td>0.807810</td>\n",
       "    </tr>\n",
       "    <tr>\n",
       "      <th>peakrpm</th>\n",
       "      <td>0.280257</td>\n",
       "      <td>-0.381358</td>\n",
       "      <td>-0.305852</td>\n",
       "      <td>-0.230430</td>\n",
       "      <td>-0.334761</td>\n",
       "      <td>-0.286913</td>\n",
       "      <td>-0.255901</td>\n",
       "      <td>-0.271613</td>\n",
       "      <td>-0.080618</td>\n",
       "      <td>-0.456067</td>\n",
       "      <td>0.128729</td>\n",
       "      <td>1.000000</td>\n",
       "      <td>-0.107163</td>\n",
       "      <td>-0.043379</td>\n",
       "      <td>-0.090893</td>\n",
       "    </tr>\n",
       "    <tr>\n",
       "      <th>citympg</th>\n",
       "      <td>-0.031693</td>\n",
       "      <td>-0.461592</td>\n",
       "      <td>-0.661962</td>\n",
       "      <td>-0.635076</td>\n",
       "      <td>-0.054374</td>\n",
       "      <td>-0.748024</td>\n",
       "      <td>-0.649632</td>\n",
       "      <td>-0.576186</td>\n",
       "      <td>-0.038623</td>\n",
       "      <td>0.320092</td>\n",
       "      <td>-0.798487</td>\n",
       "      <td>-0.107163</td>\n",
       "      <td>1.000000</td>\n",
       "      <td>0.969734</td>\n",
       "      <td>-0.683545</td>\n",
       "    </tr>\n",
       "    <tr>\n",
       "      <th>highwaympg</th>\n",
       "      <td>0.041627</td>\n",
       "      <td>-0.542363</td>\n",
       "      <td>-0.702354</td>\n",
       "      <td>-0.674418</td>\n",
       "      <td>-0.121053</td>\n",
       "      <td>-0.793639</td>\n",
       "      <td>-0.674187</td>\n",
       "      <td>-0.583992</td>\n",
       "      <td>-0.043555</td>\n",
       "      <td>0.250408</td>\n",
       "      <td>-0.765773</td>\n",
       "      <td>-0.043379</td>\n",
       "      <td>0.969734</td>\n",
       "      <td>1.000000</td>\n",
       "      <td>-0.694271</td>\n",
       "    </tr>\n",
       "    <tr>\n",
       "      <th>price</th>\n",
       "      <td>-0.086845</td>\n",
       "      <td>0.557646</td>\n",
       "      <td>0.666909</td>\n",
       "      <td>0.746922</td>\n",
       "      <td>0.121077</td>\n",
       "      <td>0.823052</td>\n",
       "      <td>0.872868</td>\n",
       "      <td>0.545726</td>\n",
       "      <td>0.076275</td>\n",
       "      <td>0.066193</td>\n",
       "      <td>0.807810</td>\n",
       "      <td>-0.090893</td>\n",
       "      <td>-0.683545</td>\n",
       "      <td>-0.694271</td>\n",
       "      <td>1.000000</td>\n",
       "    </tr>\n",
       "  </tbody>\n",
       "</table>\n",
       "</div>"
      ],
      "text/plain": [
       "                  symboling  wheelbase  carlength  carwidth  carheight  \\\n",
       "symboling          1.000000  -0.532026  -0.363187 -0.239259  -0.550400   \n",
       "wheelbase         -0.532026   1.000000   0.879582  0.793572   0.610518   \n",
       "carlength         -0.363187   0.879582   1.000000  0.841459   0.510410   \n",
       "carwidth          -0.239259   0.793572   0.841459  1.000000   0.298029   \n",
       "carheight         -0.550400   0.610518   0.510410  0.298029   1.000000   \n",
       "curbweight        -0.239932   0.782248   0.880246  0.867633   0.321434   \n",
       "enginesize        -0.111359   0.557928   0.674038  0.728631   0.074390   \n",
       "boreratio         -0.136730   0.497753   0.611594  0.565886   0.188912   \n",
       "stroke            -0.007183   0.166168   0.135670  0.188131  -0.048266   \n",
       "compressionratio  -0.188287   0.277556   0.183211  0.201087   0.283707   \n",
       "horsepower         0.067218   0.335200   0.535662  0.629106  -0.106740   \n",
       "peakrpm            0.280257  -0.381358  -0.305852 -0.230430  -0.334761   \n",
       "citympg           -0.031693  -0.461592  -0.661962 -0.635076  -0.054374   \n",
       "highwaympg         0.041627  -0.542363  -0.702354 -0.674418  -0.121053   \n",
       "price             -0.086845   0.557646   0.666909  0.746922   0.121077   \n",
       "\n",
       "                  curbweight  enginesize  boreratio    stroke  \\\n",
       "symboling          -0.239932   -0.111359  -0.136730 -0.007183   \n",
       "wheelbase           0.782248    0.557928   0.497753  0.166168   \n",
       "carlength           0.880246    0.674038   0.611594  0.135670   \n",
       "carwidth            0.867633    0.728631   0.565886  0.188131   \n",
       "carheight           0.321434    0.074390   0.188912 -0.048266   \n",
       "curbweight          1.000000    0.843832   0.654058  0.174021   \n",
       "enginesize          0.843832    1.000000   0.583145  0.205172   \n",
       "boreratio           0.654058    0.583145   1.000000 -0.044290   \n",
       "stroke              0.174021    0.205172  -0.044290  1.000000   \n",
       "compressionratio    0.178102    0.042543   0.038618  0.199625   \n",
       "horsepower          0.735942    0.806667   0.563825  0.077051   \n",
       "peakrpm            -0.286913   -0.255901  -0.271613 -0.080618   \n",
       "citympg            -0.748024   -0.649632  -0.576186 -0.038623   \n",
       "highwaympg         -0.793639   -0.674187  -0.583992 -0.043555   \n",
       "price               0.823052    0.872868   0.545726  0.076275   \n",
       "\n",
       "                  compressionratio  horsepower   peakrpm   citympg  \\\n",
       "symboling                -0.188287    0.067218  0.280257 -0.031693   \n",
       "wheelbase                 0.277556    0.335200 -0.381358 -0.461592   \n",
       "carlength                 0.183211    0.535662 -0.305852 -0.661962   \n",
       "carwidth                  0.201087    0.629106 -0.230430 -0.635076   \n",
       "carheight                 0.283707   -0.106740 -0.334761 -0.054374   \n",
       "curbweight                0.178102    0.735942 -0.286913 -0.748024   \n",
       "enginesize                0.042543    0.806667 -0.255901 -0.649632   \n",
       "boreratio                 0.038618    0.563825 -0.271613 -0.576186   \n",
       "stroke                    0.199625    0.077051 -0.080618 -0.038623   \n",
       "compressionratio          1.000000   -0.202138 -0.456067  0.320092   \n",
       "horsepower               -0.202138    1.000000  0.128729 -0.798487   \n",
       "peakrpm                  -0.456067    0.128729  1.000000 -0.107163   \n",
       "citympg                   0.320092   -0.798487 -0.107163  1.000000   \n",
       "highwaympg                0.250408   -0.765773 -0.043379  0.969734   \n",
       "price                     0.066193    0.807810 -0.090893 -0.683545   \n",
       "\n",
       "                  highwaympg     price  \n",
       "symboling           0.041627 -0.086845  \n",
       "wheelbase          -0.542363  0.557646  \n",
       "carlength          -0.702354  0.666909  \n",
       "carwidth           -0.674418  0.746922  \n",
       "carheight          -0.121053  0.121077  \n",
       "curbweight         -0.793639  0.823052  \n",
       "enginesize         -0.674187  0.872868  \n",
       "boreratio          -0.583992  0.545726  \n",
       "stroke             -0.043555  0.076275  \n",
       "compressionratio    0.250408  0.066193  \n",
       "horsepower         -0.765773  0.807810  \n",
       "peakrpm            -0.043379 -0.090893  \n",
       "citympg             0.969734 -0.683545  \n",
       "highwaympg          1.000000 -0.694271  \n",
       "price              -0.694271  1.000000  "
      ]
     },
     "execution_count": 153,
     "metadata": {},
     "output_type": "execute_result"
    }
   ],
   "source": [
    "df.corr()"
   ]
  },
  {
   "cell_type": "code",
   "execution_count": 154,
   "id": "33522e14",
   "metadata": {},
   "outputs": [
    {
     "data": {
      "text/plain": [
       "array(['mpfi', '2bbl', 'mfi', '1bbl', 'spfi', '4bbl', 'idi', 'spdi'],\n",
       "      dtype=object)"
      ]
     },
     "execution_count": 154,
     "metadata": {},
     "output_type": "execute_result"
    }
   ],
   "source": [
    "df[\"fuelsystem\"].unique()"
   ]
  },
  {
   "cell_type": "code",
   "execution_count": 155,
   "id": "e7ffb537",
   "metadata": {},
   "outputs": [
    {
     "data": {
      "text/plain": [
       "array(['front', 'rear'], dtype=object)"
      ]
     },
     "execution_count": 155,
     "metadata": {},
     "output_type": "execute_result"
    }
   ],
   "source": [
    "df[\"enginelocation\"].unique()"
   ]
  },
  {
   "cell_type": "code",
   "execution_count": 156,
   "id": "066b538d",
   "metadata": {},
   "outputs": [
    {
     "data": {
      "text/plain": [
       "array(['convertible', 'hatchback', 'sedan', 'wagon', 'hardtop'],\n",
       "      dtype=object)"
      ]
     },
     "execution_count": 156,
     "metadata": {},
     "output_type": "execute_result"
    }
   ],
   "source": [
    "df[\"carbody\"].unique()"
   ]
  },
  {
   "cell_type": "code",
   "execution_count": 157,
   "id": "6e8435eb",
   "metadata": {},
   "outputs": [
    {
     "data": {
      "text/plain": [
       "array(['dohc', 'ohcv', 'ohc', 'l', 'rotor', 'ohcf', 'dohcv'], dtype=object)"
      ]
     },
     "execution_count": 157,
     "metadata": {},
     "output_type": "execute_result"
    }
   ],
   "source": [
    "df[\"enginetype\"].unique()"
   ]
  },
  {
   "cell_type": "code",
   "execution_count": 158,
   "id": "22ef0c53",
   "metadata": {},
   "outputs": [
    {
     "data": {
      "text/plain": [
       "array(['four', 'six', 'five', 'three', 'twelve', 'two', 'eight'],\n",
       "      dtype=object)"
      ]
     },
     "execution_count": 158,
     "metadata": {},
     "output_type": "execute_result"
    }
   ],
   "source": [
    "df[\"cylindernumber\"].unique()"
   ]
  },
  {
   "cell_type": "code",
   "execution_count": 159,
   "id": "6cbfea0d",
   "metadata": {},
   "outputs": [
    {
     "data": {
      "text/plain": [
       "False    205\n",
       "True       5\n",
       "dtype: int64"
      ]
     },
     "execution_count": 159,
     "metadata": {},
     "output_type": "execute_result"
    }
   ],
   "source": [
    "df.duplicated().value_counts()"
   ]
  },
  {
   "cell_type": "code",
   "execution_count": 160,
   "id": "eee92d64",
   "metadata": {},
   "outputs": [],
   "source": [
    "df = df.drop_duplicates()"
   ]
  },
  {
   "cell_type": "code",
   "execution_count": 161,
   "id": "e341bcba",
   "metadata": {},
   "outputs": [
    {
     "data": {
      "text/plain": [
       "False    205\n",
       "dtype: int64"
      ]
     },
     "execution_count": 161,
     "metadata": {},
     "output_type": "execute_result"
    }
   ],
   "source": [
    "df.duplicated().value_counts()"
   ]
  },
  {
   "cell_type": "code",
   "execution_count": 162,
   "id": "231a7197",
   "metadata": {},
   "outputs": [
    {
     "data": {
      "text/plain": [
       "array(['gas', 'diesel'], dtype=object)"
      ]
     },
     "execution_count": 162,
     "metadata": {},
     "output_type": "execute_result"
    }
   ],
   "source": [
    "df[\"fueltype\"].unique()"
   ]
  },
  {
   "cell_type": "code",
   "execution_count": 163,
   "id": "b3c5c23f",
   "metadata": {},
   "outputs": [],
   "source": [
    "df[\"fueltype\"] = df[\"fueltype\"].apply(lambda x:1 if \"gas\" in x else 0)"
   ]
  },
  {
   "cell_type": "code",
   "execution_count": 164,
   "id": "ba88b4d3",
   "metadata": {},
   "outputs": [
    {
     "data": {
      "text/plain": [
       "0      1\n",
       "1      1\n",
       "2      1\n",
       "3      1\n",
       "4      1\n",
       "      ..\n",
       "200    1\n",
       "201    1\n",
       "202    1\n",
       "203    0\n",
       "204    1\n",
       "Name: fueltype, Length: 205, dtype: int64"
      ]
     },
     "execution_count": 164,
     "metadata": {},
     "output_type": "execute_result"
    }
   ],
   "source": [
    "df[\"fueltype\"].astype(\"int64\")"
   ]
  },
  {
   "cell_type": "code",
   "execution_count": 165,
   "id": "92e7b0a3",
   "metadata": {},
   "outputs": [
    {
     "data": {
      "text/html": [
       "<div>\n",
       "<style scoped>\n",
       "    .dataframe tbody tr th:only-of-type {\n",
       "        vertical-align: middle;\n",
       "    }\n",
       "\n",
       "    .dataframe tbody tr th {\n",
       "        vertical-align: top;\n",
       "    }\n",
       "\n",
       "    .dataframe thead th {\n",
       "        text-align: right;\n",
       "    }\n",
       "</style>\n",
       "<table border=\"1\" class=\"dataframe\">\n",
       "  <thead>\n",
       "    <tr style=\"text-align: right;\">\n",
       "      <th></th>\n",
       "      <th>CarName</th>\n",
       "      <th>carbody</th>\n",
       "      <th>drivewheel</th>\n",
       "      <th>enginelocation</th>\n",
       "      <th>fueltype</th>\n",
       "      <th>aspiration</th>\n",
       "      <th>doornumber</th>\n",
       "      <th>cylindernumber</th>\n",
       "      <th>enginetype</th>\n",
       "      <th>fuelsystem</th>\n",
       "      <th>...</th>\n",
       "      <th>curbweight</th>\n",
       "      <th>enginesize</th>\n",
       "      <th>boreratio</th>\n",
       "      <th>stroke</th>\n",
       "      <th>compressionratio</th>\n",
       "      <th>horsepower</th>\n",
       "      <th>peakrpm</th>\n",
       "      <th>citympg</th>\n",
       "      <th>highwaympg</th>\n",
       "      <th>price</th>\n",
       "    </tr>\n",
       "  </thead>\n",
       "  <tbody>\n",
       "    <tr>\n",
       "      <th>0</th>\n",
       "      <td>alfa-romero giulia</td>\n",
       "      <td>convertible</td>\n",
       "      <td>rwd</td>\n",
       "      <td>front</td>\n",
       "      <td>1</td>\n",
       "      <td>std</td>\n",
       "      <td>two</td>\n",
       "      <td>four</td>\n",
       "      <td>dohc</td>\n",
       "      <td>mpfi</td>\n",
       "      <td>...</td>\n",
       "      <td>2548</td>\n",
       "      <td>130</td>\n",
       "      <td>3.47</td>\n",
       "      <td>2.68</td>\n",
       "      <td>9.0</td>\n",
       "      <td>111</td>\n",
       "      <td>5000</td>\n",
       "      <td>21</td>\n",
       "      <td>27</td>\n",
       "      <td>13495.0</td>\n",
       "    </tr>\n",
       "    <tr>\n",
       "      <th>1</th>\n",
       "      <td>alfa-romero stelvio</td>\n",
       "      <td>convertible</td>\n",
       "      <td>rwd</td>\n",
       "      <td>front</td>\n",
       "      <td>1</td>\n",
       "      <td>std</td>\n",
       "      <td>two</td>\n",
       "      <td>four</td>\n",
       "      <td>dohc</td>\n",
       "      <td>mpfi</td>\n",
       "      <td>...</td>\n",
       "      <td>2548</td>\n",
       "      <td>130</td>\n",
       "      <td>3.47</td>\n",
       "      <td>2.68</td>\n",
       "      <td>9.0</td>\n",
       "      <td>111</td>\n",
       "      <td>5000</td>\n",
       "      <td>21</td>\n",
       "      <td>27</td>\n",
       "      <td>16500.0</td>\n",
       "    </tr>\n",
       "    <tr>\n",
       "      <th>2</th>\n",
       "      <td>alfa-romero Quadrifoglio</td>\n",
       "      <td>hatchback</td>\n",
       "      <td>rwd</td>\n",
       "      <td>front</td>\n",
       "      <td>1</td>\n",
       "      <td>std</td>\n",
       "      <td>two</td>\n",
       "      <td>six</td>\n",
       "      <td>ohcv</td>\n",
       "      <td>mpfi</td>\n",
       "      <td>...</td>\n",
       "      <td>2823</td>\n",
       "      <td>152</td>\n",
       "      <td>2.68</td>\n",
       "      <td>3.47</td>\n",
       "      <td>9.0</td>\n",
       "      <td>154</td>\n",
       "      <td>5000</td>\n",
       "      <td>19</td>\n",
       "      <td>26</td>\n",
       "      <td>16500.0</td>\n",
       "    </tr>\n",
       "    <tr>\n",
       "      <th>3</th>\n",
       "      <td>audi 100 ls</td>\n",
       "      <td>sedan</td>\n",
       "      <td>fwd</td>\n",
       "      <td>front</td>\n",
       "      <td>1</td>\n",
       "      <td>std</td>\n",
       "      <td>four</td>\n",
       "      <td>four</td>\n",
       "      <td>ohc</td>\n",
       "      <td>mpfi</td>\n",
       "      <td>...</td>\n",
       "      <td>2337</td>\n",
       "      <td>109</td>\n",
       "      <td>3.19</td>\n",
       "      <td>3.40</td>\n",
       "      <td>10.0</td>\n",
       "      <td>102</td>\n",
       "      <td>5500</td>\n",
       "      <td>24</td>\n",
       "      <td>30</td>\n",
       "      <td>13950.0</td>\n",
       "    </tr>\n",
       "    <tr>\n",
       "      <th>4</th>\n",
       "      <td>audi 100ls</td>\n",
       "      <td>sedan</td>\n",
       "      <td>4wd</td>\n",
       "      <td>front</td>\n",
       "      <td>1</td>\n",
       "      <td>std</td>\n",
       "      <td>four</td>\n",
       "      <td>five</td>\n",
       "      <td>ohc</td>\n",
       "      <td>mpfi</td>\n",
       "      <td>...</td>\n",
       "      <td>2824</td>\n",
       "      <td>136</td>\n",
       "      <td>3.19</td>\n",
       "      <td>3.40</td>\n",
       "      <td>8.0</td>\n",
       "      <td>115</td>\n",
       "      <td>5500</td>\n",
       "      <td>18</td>\n",
       "      <td>22</td>\n",
       "      <td>17450.0</td>\n",
       "    </tr>\n",
       "  </tbody>\n",
       "</table>\n",
       "<p>5 rows × 25 columns</p>\n",
       "</div>"
      ],
      "text/plain": [
       "                    CarName      carbody drivewheel enginelocation  fueltype  \\\n",
       "0        alfa-romero giulia  convertible        rwd          front         1   \n",
       "1       alfa-romero stelvio  convertible        rwd          front         1   \n",
       "2  alfa-romero Quadrifoglio    hatchback        rwd          front         1   \n",
       "3               audi 100 ls        sedan        fwd          front         1   \n",
       "4                audi 100ls        sedan        4wd          front         1   \n",
       "\n",
       "  aspiration doornumber cylindernumber enginetype fuelsystem  ...  curbweight  \\\n",
       "0        std        two           four       dohc       mpfi  ...        2548   \n",
       "1        std        two           four       dohc       mpfi  ...        2548   \n",
       "2        std        two            six       ohcv       mpfi  ...        2823   \n",
       "3        std       four           four        ohc       mpfi  ...        2337   \n",
       "4        std       four           five        ohc       mpfi  ...        2824   \n",
       "\n",
       "   enginesize  boreratio  stroke  compressionratio  horsepower  peakrpm  \\\n",
       "0         130       3.47    2.68               9.0         111     5000   \n",
       "1         130       3.47    2.68               9.0         111     5000   \n",
       "2         152       2.68    3.47               9.0         154     5000   \n",
       "3         109       3.19    3.40              10.0         102     5500   \n",
       "4         136       3.19    3.40               8.0         115     5500   \n",
       "\n",
       "   citympg  highwaympg    price  \n",
       "0       21          27  13495.0  \n",
       "1       21          27  16500.0  \n",
       "2       19          26  16500.0  \n",
       "3       24          30  13950.0  \n",
       "4       18          22  17450.0  \n",
       "\n",
       "[5 rows x 25 columns]"
      ]
     },
     "execution_count": 165,
     "metadata": {},
     "output_type": "execute_result"
    }
   ],
   "source": [
    "df.head()"
   ]
  },
  {
   "cell_type": "code",
   "execution_count": 166,
   "id": "bfaeeb28",
   "metadata": {},
   "outputs": [],
   "source": [
    "import seaborn as sns"
   ]
  },
  {
   "cell_type": "code",
   "execution_count": 167,
   "id": "24fdf57c",
   "metadata": {},
   "outputs": [
    {
     "name": "stderr",
     "output_type": "stream",
     "text": [
      "C:\\Users\\admin\\anaconda3\\lib\\site-packages\\seaborn\\_decorators.py:36: FutureWarning: Pass the following variables as keyword args: x, y. From version 0.12, the only valid positional argument will be `data`, and passing other arguments without an explicit keyword will result in an error or misinterpretation.\n",
      "  warnings.warn(\n"
     ]
    },
    {
     "data": {
      "text/plain": [
       "<AxesSubplot:xlabel='fueltype', ylabel='price'>"
      ]
     },
     "execution_count": 167,
     "metadata": {},
     "output_type": "execute_result"
    },
    {
     "data": {
      "image/png": "[encoded data removed]",
      "text/plain": [
       "<Figure size 640x480 with 1 Axes>"
      ]
     },
     "metadata": {},
     "output_type": "display_data"
    }
   ],
   "source": [
    "sns.barplot(df['fueltype'],df['price'])"
   ]
  },
  {
   "cell_type": "code",
   "execution_count": 168,
   "id": "bcd4c4e4",
   "metadata": {},
   "outputs": [
    {
     "name": "stderr",
     "output_type": "stream",
     "text": [
      "C:\\Users\\admin\\anaconda3\\lib\\site-packages\\seaborn\\_decorators.py:36: FutureWarning: Pass the following variables as keyword args: x, y. From version 0.12, the only valid positional argument will be `data`, and passing other arguments without an explicit keyword will result in an error or misinterpretation.\n",
      "  warnings.warn(\n"
     ]
    },
    {
     "data": {
      "text/plain": [
       "<AxesSubplot:xlabel='fueltype', ylabel='price'>"
      ]
     },
     "execution_count": 168,
     "metadata": {},
     "output_type": "execute_result"
    },
    {
     "data": {
      "image/png": "[encoded data removed]",
      "text/plain": [
       "<Figure size 640x480 with 1 Axes>"
      ]
     },
     "metadata": {},
     "output_type": "display_data"
    }
   ],
   "source": [
    "sns.regplot(df[\"fueltype\"],df[\"price\"])"
   ]
  },
  {
   "cell_type": "code",
   "execution_count": null,
   "id": "141e3698",
   "metadata": {},
   "outputs": [],
   "source": []
  },
  {
   "cell_type": "code",
   "execution_count": 169,
   "id": "eec65852",
   "metadata": {},
   "outputs": [
    {
     "data": {
      "text/plain": [
       "<AxesSubplot:xlabel='enginelocation', ylabel='price'>"
      ]
     },
     "execution_count": 169,
     "metadata": {},
     "output_type": "execute_result"
    },
    {
     "data": {
      "image/png": "[encoded data removed]",
      "text/plain": [
       "<Figure size 640x480 with 1 Axes>"
      ]
     },
     "metadata": {},
     "output_type": "display_data"
    }
   ],
   "source": [
    "sns.barplot(df['enginelocation'],df['price'])"
   ]
  },
  {
   "cell_type": "code",
   "execution_count": 170,
   "id": "e8eec639",
   "metadata": {},
   "outputs": [
    {
     "name": "stderr",
     "output_type": "stream",
     "text": [
      "C:\\Users\\admin\\anaconda3\\lib\\site-packages\\seaborn\\_decorators.py:36: FutureWarning: Pass the following variables as keyword args: x, y. From version 0.12, the only valid positional argument will be `data`, and passing other arguments without an explicit keyword will result in an error or misinterpretation.\n",
      "  warnings.warn(\n"
     ]
    },
    {
     "ename": "UFuncTypeError",
     "evalue": "ufunc 'multiply' did not contain a loop with signature matching types (dtype('<U5'), dtype('float64')) -> None",
     "output_type": "error",
     "traceback": [
      "\u001b[1;31m---------------------------------------------------------------------------\u001b[0m",
      "\u001b[1;31mUFuncTypeError\u001b[0m                            Traceback (most recent call last)",
      "\u001b[1;32m~\\AppData\\Local\\Temp\\ipykernel_13440\\515203621.py\u001b[0m in \u001b[0;36m<module>\u001b[1;34m\u001b[0m\n\u001b[1;32m----> 1\u001b[1;33m \u001b[0msns\u001b[0m\u001b[1;33m.\u001b[0m\u001b[0mregplot\u001b[0m\u001b[1;33m(\u001b[0m\u001b[0mdf\u001b[0m\u001b[1;33m[\u001b[0m\u001b[1;34m\"enginelocation\"\u001b[0m\u001b[1;33m]\u001b[0m\u001b[1;33m,\u001b[0m\u001b[0mdf\u001b[0m\u001b[1;33m[\u001b[0m\u001b[1;34m\"price\"\u001b[0m\u001b[1;33m]\u001b[0m\u001b[1;33m)\u001b[0m\u001b[1;33m\u001b[0m\u001b[1;33m\u001b[0m\u001b[0m\n\u001b[0m",
      "\u001b[1;32m~\\anaconda3\\lib\\site-packages\\seaborn\\_decorators.py\u001b[0m in \u001b[0;36minner_f\u001b[1;34m(*args, **kwargs)\u001b[0m\n\u001b[0;32m     44\u001b[0m             )\n\u001b[0;32m     45\u001b[0m         \u001b[0mkwargs\u001b[0m\u001b[1;33m.\u001b[0m\u001b[0mupdate\u001b[0m\u001b[1;33m(\u001b[0m\u001b[1;33m{\u001b[0m\u001b[0mk\u001b[0m\u001b[1;33m:\u001b[0m \u001b[0marg\u001b[0m \u001b[1;32mfor\u001b[0m \u001b[0mk\u001b[0m\u001b[1;33m,\u001b[0m \u001b[0marg\u001b[0m \u001b[1;32min\u001b[0m \u001b[0mzip\u001b[0m\u001b[1;33m(\u001b[0m\u001b[0msig\u001b[0m\u001b[1;33m.\u001b[0m\u001b[0mparameters\u001b[0m\u001b[1;33m,\u001b[0m \u001b[0margs\u001b[0m\u001b[1;33m)\u001b[0m\u001b[1;33m}\u001b[0m\u001b[1;33m)\u001b[0m\u001b[1;33m\u001b[0m\u001b[1;33m\u001b[0m\u001b[0m\n\u001b[1;32m---> 46\u001b[1;33m         \u001b[1;32mreturn\u001b[0m \u001b[0mf\u001b[0m\u001b[1;33m(\u001b[0m\u001b[1;33m**\u001b[0m\u001b[0mkwargs\u001b[0m\u001b[1;33m)\u001b[0m\u001b[1;33m\u001b[0m\u001b[1;33m\u001b[0m\u001b[0m\n\u001b[0m\u001b[0;32m     47\u001b[0m     \u001b[1;32mreturn\u001b[0m \u001b[0minner_f\u001b[0m\u001b[1;33m\u001b[0m\u001b[1;33m\u001b[0m\u001b[0m\n\u001b[0;32m     48\u001b[0m \u001b[1;33m\u001b[0m\u001b[0m\n",
      "\u001b[1;32m~\\anaconda3\\lib\\site-packages\\seaborn\\regression.py\u001b[0m in \u001b[0;36mregplot\u001b[1;34m(x, y, data, x_estimator, x_bins, x_ci, scatter, fit_reg, ci, n_boot, units, seed, order, logistic, lowess, robust, logx, x_partial, y_partial, truncate, dropna, x_jitter, y_jitter, label, color, marker, scatter_kws, line_kws, ax)\u001b[0m\n\u001b[0;32m    861\u001b[0m     \u001b[0mscatter_kws\u001b[0m\u001b[1;33m[\u001b[0m\u001b[1;34m\"marker\"\u001b[0m\u001b[1;33m]\u001b[0m \u001b[1;33m=\u001b[0m \u001b[0mmarker\u001b[0m\u001b[1;33m\u001b[0m\u001b[1;33m\u001b[0m\u001b[0m\n\u001b[0;32m    862\u001b[0m     \u001b[0mline_kws\u001b[0m \u001b[1;33m=\u001b[0m \u001b[1;33m{\u001b[0m\u001b[1;33m}\u001b[0m \u001b[1;32mif\u001b[0m \u001b[0mline_kws\u001b[0m \u001b[1;32mis\u001b[0m \u001b[1;32mNone\u001b[0m \u001b[1;32melse\u001b[0m \u001b[0mcopy\u001b[0m\u001b[1;33m.\u001b[0m\u001b[0mcopy\u001b[0m\u001b[1;33m(\u001b[0m\u001b[0mline_kws\u001b[0m\u001b[1;33m)\u001b[0m\u001b[1;33m\u001b[0m\u001b[1;33m\u001b[0m\u001b[0m\n\u001b[1;32m--> 863\u001b[1;33m     \u001b[0mplotter\u001b[0m\u001b[1;33m.\u001b[0m\u001b[0mplot\u001b[0m\u001b[1;33m(\u001b[0m\u001b[0max\u001b[0m\u001b[1;33m,\u001b[0m \u001b[0mscatter_kws\u001b[0m\u001b[1;33m,\u001b[0m \u001b[0mline_kws\u001b[0m\u001b[1;33m)\u001b[0m\u001b[1;33m\u001b[0m\u001b[1;33m\u001b[0m\u001b[0m\n\u001b[0m\u001b[0;32m    864\u001b[0m     \u001b[1;32mreturn\u001b[0m \u001b[0max\u001b[0m\u001b[1;33m\u001b[0m\u001b[1;33m\u001b[0m\u001b[0m\n\u001b[0;32m    865\u001b[0m \u001b[1;33m\u001b[0m\u001b[0m\n",
      "\u001b[1;32m~\\anaconda3\\lib\\site-packages\\seaborn\\regression.py\u001b[0m in \u001b[0;36mplot\u001b[1;34m(self, ax, scatter_kws, line_kws)\u001b[0m\n\u001b[0;32m    368\u001b[0m \u001b[1;33m\u001b[0m\u001b[0m\n\u001b[0;32m    369\u001b[0m         \u001b[1;32mif\u001b[0m \u001b[0mself\u001b[0m\u001b[1;33m.\u001b[0m\u001b[0mfit_reg\u001b[0m\u001b[1;33m:\u001b[0m\u001b[1;33m\u001b[0m\u001b[1;33m\u001b[0m\u001b[0m\n\u001b[1;32m--> 370\u001b[1;33m             \u001b[0mself\u001b[0m\u001b[1;33m.\u001b[0m\u001b[0mlineplot\u001b[0m\u001b[1;33m(\u001b[0m\u001b[0max\u001b[0m\u001b[1;33m,\u001b[0m \u001b[0mline_kws\u001b[0m\u001b[1;33m)\u001b[0m\u001b[1;33m\u001b[0m\u001b[1;33m\u001b[0m\u001b[0m\n\u001b[0m\u001b[0;32m    371\u001b[0m \u001b[1;33m\u001b[0m\u001b[0m\n\u001b[0;32m    372\u001b[0m         \u001b[1;31m# Label the axes\u001b[0m\u001b[1;33m\u001b[0m\u001b[1;33m\u001b[0m\u001b[0m\n",
      "\u001b[1;32m~\\anaconda3\\lib\\site-packages\\seaborn\\regression.py\u001b[0m in \u001b[0;36mlineplot\u001b[1;34m(self, ax, kws)\u001b[0m\n\u001b[0;32m    411\u001b[0m         \u001b[1;34m\"\"\"Draw the model.\"\"\"\u001b[0m\u001b[1;33m\u001b[0m\u001b[1;33m\u001b[0m\u001b[0m\n\u001b[0;32m    412\u001b[0m         \u001b[1;31m# Fit the regression model\u001b[0m\u001b[1;33m\u001b[0m\u001b[1;33m\u001b[0m\u001b[0m\n\u001b[1;32m--> 413\u001b[1;33m         \u001b[0mgrid\u001b[0m\u001b[1;33m,\u001b[0m \u001b[0myhat\u001b[0m\u001b[1;33m,\u001b[0m \u001b[0merr_bands\u001b[0m \u001b[1;33m=\u001b[0m \u001b[0mself\u001b[0m\u001b[1;33m.\u001b[0m\u001b[0mfit_regression\u001b[0m\u001b[1;33m(\u001b[0m\u001b[0max\u001b[0m\u001b[1;33m)\u001b[0m\u001b[1;33m\u001b[0m\u001b[1;33m\u001b[0m\u001b[0m\n\u001b[0m\u001b[0;32m    414\u001b[0m         \u001b[0medges\u001b[0m \u001b[1;33m=\u001b[0m \u001b[0mgrid\u001b[0m\u001b[1;33m[\u001b[0m\u001b[1;36m0\u001b[0m\u001b[1;33m]\u001b[0m\u001b[1;33m,\u001b[0m \u001b[0mgrid\u001b[0m\u001b[1;33m[\u001b[0m\u001b[1;33m-\u001b[0m\u001b[1;36m1\u001b[0m\u001b[1;33m]\u001b[0m\u001b[1;33m\u001b[0m\u001b[1;33m\u001b[0m\u001b[0m\n\u001b[0;32m    415\u001b[0m \u001b[1;33m\u001b[0m\u001b[0m\n",
      "\u001b[1;32m~\\anaconda3\\lib\\site-packages\\seaborn\\regression.py\u001b[0m in \u001b[0;36mfit_regression\u001b[1;34m(self, ax, x_range, grid)\u001b[0m\n\u001b[0;32m    199\u001b[0m                 \u001b[1;32melse\u001b[0m\u001b[1;33m:\u001b[0m\u001b[1;33m\u001b[0m\u001b[1;33m\u001b[0m\u001b[0m\n\u001b[0;32m    200\u001b[0m                     \u001b[0mx_min\u001b[0m\u001b[1;33m,\u001b[0m \u001b[0mx_max\u001b[0m \u001b[1;33m=\u001b[0m \u001b[0max\u001b[0m\u001b[1;33m.\u001b[0m\u001b[0mget_xlim\u001b[0m\u001b[1;33m(\u001b[0m\u001b[1;33m)\u001b[0m\u001b[1;33m\u001b[0m\u001b[1;33m\u001b[0m\u001b[0m\n\u001b[1;32m--> 201\u001b[1;33m             \u001b[0mgrid\u001b[0m \u001b[1;33m=\u001b[0m \u001b[0mnp\u001b[0m\u001b[1;33m.\u001b[0m\u001b[0mlinspace\u001b[0m\u001b[1;33m(\u001b[0m\u001b[0mx_min\u001b[0m\u001b[1;33m,\u001b[0m \u001b[0mx_max\u001b[0m\u001b[1;33m,\u001b[0m \u001b[1;36m100\u001b[0m\u001b[1;33m)\u001b[0m\u001b[1;33m\u001b[0m\u001b[1;33m\u001b[0m\u001b[0m\n\u001b[0m\u001b[0;32m    202\u001b[0m         \u001b[0mci\u001b[0m \u001b[1;33m=\u001b[0m \u001b[0mself\u001b[0m\u001b[1;33m.\u001b[0m\u001b[0mci\u001b[0m\u001b[1;33m\u001b[0m\u001b[1;33m\u001b[0m\u001b[0m\n\u001b[0;32m    203\u001b[0m \u001b[1;33m\u001b[0m\u001b[0m\n",
      "\u001b[1;32m~\\anaconda3\\lib\\site-packages\\numpy\\core\\overrides.py\u001b[0m in \u001b[0;36mlinspace\u001b[1;34m(*args, **kwargs)\u001b[0m\n",
      "\u001b[1;32m~\\anaconda3\\lib\\site-packages\\numpy\\core\\function_base.py\u001b[0m in \u001b[0;36mlinspace\u001b[1;34m(start, stop, num, endpoint, retstep, dtype, axis)\u001b[0m\n\u001b[0;32m    125\u001b[0m     \u001b[1;31m# Convert float/complex array scalars to float, gh-3504\u001b[0m\u001b[1;33m\u001b[0m\u001b[1;33m\u001b[0m\u001b[0m\n\u001b[0;32m    126\u001b[0m     \u001b[1;31m# and make sure one can use variables that have an __array_interface__, gh-6634\u001b[0m\u001b[1;33m\u001b[0m\u001b[1;33m\u001b[0m\u001b[0m\n\u001b[1;32m--> 127\u001b[1;33m     \u001b[0mstart\u001b[0m \u001b[1;33m=\u001b[0m \u001b[0masanyarray\u001b[0m\u001b[1;33m(\u001b[0m\u001b[0mstart\u001b[0m\u001b[1;33m)\u001b[0m \u001b[1;33m*\u001b[0m \u001b[1;36m1.0\u001b[0m\u001b[1;33m\u001b[0m\u001b[1;33m\u001b[0m\u001b[0m\n\u001b[0m\u001b[0;32m    128\u001b[0m     \u001b[0mstop\u001b[0m  \u001b[1;33m=\u001b[0m \u001b[0masanyarray\u001b[0m\u001b[1;33m(\u001b[0m\u001b[0mstop\u001b[0m\u001b[1;33m)\u001b[0m  \u001b[1;33m*\u001b[0m \u001b[1;36m1.0\u001b[0m\u001b[1;33m\u001b[0m\u001b[1;33m\u001b[0m\u001b[0m\n\u001b[0;32m    129\u001b[0m \u001b[1;33m\u001b[0m\u001b[0m\n",
      "\u001b[1;31mUFuncTypeError\u001b[0m: ufunc 'multiply' did not contain a loop with signature matching types (dtype('<U5'), dtype('float64')) -> None"
     ]
    },
    {
     "data": {
      "image/png": "[encoded data removed]",
      "text/plain": [
       "<Figure size 640x480 with 1 Axes>"
      ]
     },
     "metadata": {},
     "output_type": "display_data"
    }
   ],
   "source": [
    "sns.regplot(df[\"enginelocation\"],df[\"price\"])"
   ]
  },
  {
   "cell_type": "code",
   "execution_count": 171,
   "id": "9a64d2d8",
   "metadata": {},
   "outputs": [
    {
     "data": {
      "text/plain": [
       "array(['std', 'turbo'], dtype=object)"
      ]
     },
     "execution_count": 171,
     "metadata": {},
     "output_type": "execute_result"
    }
   ],
   "source": [
    "df[\"aspiration\"].unique()"
   ]
  },
  {
   "cell_type": "code",
   "execution_count": 172,
   "id": "fcdae28c",
   "metadata": {},
   "outputs": [],
   "source": [
    "#df[\"aspiration\"] = df[\"aspiration\"].apply(lambda x:1 if \"std\" in x else 0)"
   ]
  },
  {
   "cell_type": "code",
   "execution_count": 173,
   "id": "9a1eed30",
   "metadata": {},
   "outputs": [
    {
     "name": "stdout",
     "output_type": "stream",
     "text": [
      "<class 'pandas.core.frame.DataFrame'>\n",
      "Int64Index: 205 entries, 0 to 204\n",
      "Data columns (total 25 columns):\n",
      " #   Column            Non-Null Count  Dtype  \n",
      "---  ------            --------------  -----  \n",
      " 0   CarName           205 non-null    object \n",
      " 1   carbody           205 non-null    object \n",
      " 2   drivewheel        205 non-null    object \n",
      " 3   enginelocation    205 non-null    object \n",
      " 4   fueltype          205 non-null    int64  \n",
      " 5   aspiration        205 non-null    object \n",
      " 6   doornumber        205 non-null    object \n",
      " 7   cylindernumber    205 non-null    object \n",
      " 8   enginetype        205 non-null    object \n",
      " 9   fuelsystem        205 non-null    object \n",
      " 10  symboling         205 non-null    int64  \n",
      " 11  wheelbase         205 non-null    float64\n",
      " 12  carlength         205 non-null    float64\n",
      " 13  carwidth          205 non-null    float64\n",
      " 14  carheight         205 non-null    float64\n",
      " 15  curbweight        205 non-null    int64  \n",
      " 16  enginesize        205 non-null    int64  \n",
      " 17  boreratio         205 non-null    float64\n",
      " 18  stroke            205 non-null    float64\n",
      " 19  compressionratio  205 non-null    float64\n",
      " 20  horsepower        205 non-null    int64  \n",
      " 21  peakrpm           205 non-null    int64  \n",
      " 22  citympg           205 non-null    int64  \n",
      " 23  highwaympg        205 non-null    int64  \n",
      " 24  price             205 non-null    float64\n",
      "dtypes: float64(8), int64(8), object(9)\n",
      "memory usage: 41.6+ KB\n"
     ]
    }
   ],
   "source": [
    "df.info()"
   ]
  },
  {
   "cell_type": "code",
   "execution_count": 174,
   "id": "34a4d14a",
   "metadata": {},
   "outputs": [
    {
     "data": {
      "text/plain": [
       "array(['two', 'four'], dtype=object)"
      ]
     },
     "execution_count": 174,
     "metadata": {},
     "output_type": "execute_result"
    }
   ],
   "source": [
    "df[\"doornumber\"].unique()"
   ]
  },
  {
   "cell_type": "code",
   "execution_count": 175,
   "id": "2af3f1ed",
   "metadata": {},
   "outputs": [
    {
     "data": {
      "text/plain": [
       "0      1\n",
       "1      1\n",
       "2      1\n",
       "3      0\n",
       "4      0\n",
       "      ..\n",
       "200    0\n",
       "201    0\n",
       "202    0\n",
       "203    0\n",
       "204    0\n",
       "Name: doornumber, Length: 205, dtype: int64"
      ]
     },
     "execution_count": 175,
     "metadata": {},
     "output_type": "execute_result"
    }
   ],
   "source": [
    "df[\"doornumber\"] = df[\"doornumber\"].apply(lambda x:1 if \"two\" in x else 0)\n",
    "df[\"doornumber\"].astype(\"int64\")"
   ]
  },
  {
   "cell_type": "code",
   "execution_count": 176,
   "id": "2f1fe156",
   "metadata": {},
   "outputs": [
    {
     "data": {
      "text/html": [
       "<div>\n",
       "<style scoped>\n",
       "    .dataframe tbody tr th:only-of-type {\n",
       "        vertical-align: middle;\n",
       "    }\n",
       "\n",
       "    .dataframe tbody tr th {\n",
       "        vertical-align: top;\n",
       "    }\n",
       "\n",
       "    .dataframe thead th {\n",
       "        text-align: right;\n",
       "    }\n",
       "</style>\n",
       "<table border=\"1\" class=\"dataframe\">\n",
       "  <thead>\n",
       "    <tr style=\"text-align: right;\">\n",
       "      <th></th>\n",
       "      <th>fueltype</th>\n",
       "      <th>doornumber</th>\n",
       "      <th>symboling</th>\n",
       "      <th>wheelbase</th>\n",
       "      <th>carlength</th>\n",
       "      <th>carwidth</th>\n",
       "      <th>carheight</th>\n",
       "      <th>curbweight</th>\n",
       "      <th>enginesize</th>\n",
       "      <th>boreratio</th>\n",
       "      <th>stroke</th>\n",
       "      <th>compressionratio</th>\n",
       "      <th>horsepower</th>\n",
       "      <th>peakrpm</th>\n",
       "      <th>citympg</th>\n",
       "      <th>highwaympg</th>\n",
       "      <th>price</th>\n",
       "    </tr>\n",
       "  </thead>\n",
       "  <tbody>\n",
       "    <tr>\n",
       "      <th>fueltype</th>\n",
       "      <td>1.000000</td>\n",
       "      <td>0.191491</td>\n",
       "      <td>0.194311</td>\n",
       "      <td>-0.308346</td>\n",
       "      <td>-0.212679</td>\n",
       "      <td>-0.233880</td>\n",
       "      <td>-0.284631</td>\n",
       "      <td>-0.217275</td>\n",
       "      <td>-0.069594</td>\n",
       "      <td>-0.054451</td>\n",
       "      <td>-0.241829</td>\n",
       "      <td>-0.984356</td>\n",
       "      <td>0.163926</td>\n",
       "      <td>0.476883</td>\n",
       "      <td>-0.255963</td>\n",
       "      <td>-0.191392</td>\n",
       "      <td>-0.105679</td>\n",
       "    </tr>\n",
       "    <tr>\n",
       "      <th>doornumber</th>\n",
       "      <td>0.191491</td>\n",
       "      <td>1.000000</td>\n",
       "      <td>0.664073</td>\n",
       "      <td>-0.447357</td>\n",
       "      <td>-0.398568</td>\n",
       "      <td>-0.207168</td>\n",
       "      <td>-0.552208</td>\n",
       "      <td>-0.197379</td>\n",
       "      <td>-0.020742</td>\n",
       "      <td>-0.119258</td>\n",
       "      <td>0.011082</td>\n",
       "      <td>-0.177888</td>\n",
       "      <td>0.126947</td>\n",
       "      <td>0.247668</td>\n",
       "      <td>0.012417</td>\n",
       "      <td>0.036330</td>\n",
       "      <td>-0.031835</td>\n",
       "    </tr>\n",
       "    <tr>\n",
       "      <th>symboling</th>\n",
       "      <td>0.194311</td>\n",
       "      <td>0.664073</td>\n",
       "      <td>1.000000</td>\n",
       "      <td>-0.531954</td>\n",
       "      <td>-0.357612</td>\n",
       "      <td>-0.232919</td>\n",
       "      <td>-0.541038</td>\n",
       "      <td>-0.227691</td>\n",
       "      <td>-0.105790</td>\n",
       "      <td>-0.130051</td>\n",
       "      <td>-0.008735</td>\n",
       "      <td>-0.178515</td>\n",
       "      <td>0.070873</td>\n",
       "      <td>0.273606</td>\n",
       "      <td>-0.035823</td>\n",
       "      <td>0.034606</td>\n",
       "      <td>-0.079978</td>\n",
       "    </tr>\n",
       "    <tr>\n",
       "      <th>wheelbase</th>\n",
       "      <td>-0.308346</td>\n",
       "      <td>-0.447357</td>\n",
       "      <td>-0.531954</td>\n",
       "      <td>1.000000</td>\n",
       "      <td>0.874587</td>\n",
       "      <td>0.795144</td>\n",
       "      <td>0.589435</td>\n",
       "      <td>0.776386</td>\n",
       "      <td>0.569329</td>\n",
       "      <td>0.488750</td>\n",
       "      <td>0.160959</td>\n",
       "      <td>0.249786</td>\n",
       "      <td>0.353294</td>\n",
       "      <td>-0.360469</td>\n",
       "      <td>-0.470414</td>\n",
       "      <td>-0.544082</td>\n",
       "      <td>0.577816</td>\n",
       "    </tr>\n",
       "    <tr>\n",
       "      <th>carlength</th>\n",
       "      <td>-0.212679</td>\n",
       "      <td>-0.398568</td>\n",
       "      <td>-0.357612</td>\n",
       "      <td>0.874587</td>\n",
       "      <td>1.000000</td>\n",
       "      <td>0.841118</td>\n",
       "      <td>0.491029</td>\n",
       "      <td>0.877728</td>\n",
       "      <td>0.683360</td>\n",
       "      <td>0.606454</td>\n",
       "      <td>0.129533</td>\n",
       "      <td>0.158414</td>\n",
       "      <td>0.552623</td>\n",
       "      <td>-0.287242</td>\n",
       "      <td>-0.670909</td>\n",
       "      <td>-0.704662</td>\n",
       "      <td>0.682920</td>\n",
       "    </tr>\n",
       "    <tr>\n",
       "      <th>carwidth</th>\n",
       "      <td>-0.233880</td>\n",
       "      <td>-0.207168</td>\n",
       "      <td>-0.232919</td>\n",
       "      <td>0.795144</td>\n",
       "      <td>0.841118</td>\n",
       "      <td>1.000000</td>\n",
       "      <td>0.279210</td>\n",
       "      <td>0.867032</td>\n",
       "      <td>0.735433</td>\n",
       "      <td>0.559150</td>\n",
       "      <td>0.182942</td>\n",
       "      <td>0.181129</td>\n",
       "      <td>0.640732</td>\n",
       "      <td>-0.220012</td>\n",
       "      <td>-0.642704</td>\n",
       "      <td>-0.677218</td>\n",
       "      <td>0.759325</td>\n",
       "    </tr>\n",
       "    <tr>\n",
       "      <th>carheight</th>\n",
       "      <td>-0.284631</td>\n",
       "      <td>-0.552208</td>\n",
       "      <td>-0.541038</td>\n",
       "      <td>0.589435</td>\n",
       "      <td>0.491029</td>\n",
       "      <td>0.279210</td>\n",
       "      <td>1.000000</td>\n",
       "      <td>0.295572</td>\n",
       "      <td>0.067149</td>\n",
       "      <td>0.171071</td>\n",
       "      <td>-0.055307</td>\n",
       "      <td>0.261214</td>\n",
       "      <td>-0.108802</td>\n",
       "      <td>-0.320411</td>\n",
       "      <td>-0.048640</td>\n",
       "      <td>-0.107358</td>\n",
       "      <td>0.119336</td>\n",
       "    </tr>\n",
       "    <tr>\n",
       "      <th>curbweight</th>\n",
       "      <td>-0.217275</td>\n",
       "      <td>-0.197379</td>\n",
       "      <td>-0.227691</td>\n",
       "      <td>0.776386</td>\n",
       "      <td>0.877728</td>\n",
       "      <td>0.867032</td>\n",
       "      <td>0.295572</td>\n",
       "      <td>1.000000</td>\n",
       "      <td>0.850594</td>\n",
       "      <td>0.648480</td>\n",
       "      <td>0.168790</td>\n",
       "      <td>0.151362</td>\n",
       "      <td>0.750739</td>\n",
       "      <td>-0.266243</td>\n",
       "      <td>-0.757414</td>\n",
       "      <td>-0.797465</td>\n",
       "      <td>0.835305</td>\n",
       "    </tr>\n",
       "    <tr>\n",
       "      <th>enginesize</th>\n",
       "      <td>-0.069594</td>\n",
       "      <td>-0.020742</td>\n",
       "      <td>-0.105790</td>\n",
       "      <td>0.569329</td>\n",
       "      <td>0.683360</td>\n",
       "      <td>0.735433</td>\n",
       "      <td>0.067149</td>\n",
       "      <td>0.850594</td>\n",
       "      <td>1.000000</td>\n",
       "      <td>0.583774</td>\n",
       "      <td>0.203129</td>\n",
       "      <td>0.028971</td>\n",
       "      <td>0.809769</td>\n",
       "      <td>-0.244660</td>\n",
       "      <td>-0.653658</td>\n",
       "      <td>-0.677470</td>\n",
       "      <td>0.874145</td>\n",
       "    </tr>\n",
       "    <tr>\n",
       "      <th>boreratio</th>\n",
       "      <td>-0.054451</td>\n",
       "      <td>-0.119258</td>\n",
       "      <td>-0.130051</td>\n",
       "      <td>0.488750</td>\n",
       "      <td>0.606454</td>\n",
       "      <td>0.559150</td>\n",
       "      <td>0.171071</td>\n",
       "      <td>0.648480</td>\n",
       "      <td>0.583774</td>\n",
       "      <td>1.000000</td>\n",
       "      <td>-0.055909</td>\n",
       "      <td>0.005197</td>\n",
       "      <td>0.573677</td>\n",
       "      <td>-0.254976</td>\n",
       "      <td>-0.584532</td>\n",
       "      <td>-0.587012</td>\n",
       "      <td>0.553173</td>\n",
       "    </tr>\n",
       "    <tr>\n",
       "      <th>stroke</th>\n",
       "      <td>-0.241829</td>\n",
       "      <td>0.011082</td>\n",
       "      <td>-0.008735</td>\n",
       "      <td>0.160959</td>\n",
       "      <td>0.129533</td>\n",
       "      <td>0.182942</td>\n",
       "      <td>-0.055307</td>\n",
       "      <td>0.168790</td>\n",
       "      <td>0.203129</td>\n",
       "      <td>-0.055909</td>\n",
       "      <td>1.000000</td>\n",
       "      <td>0.186110</td>\n",
       "      <td>0.080940</td>\n",
       "      <td>-0.067964</td>\n",
       "      <td>-0.042145</td>\n",
       "      <td>-0.043931</td>\n",
       "      <td>0.079443</td>\n",
       "    </tr>\n",
       "    <tr>\n",
       "      <th>compressionratio</th>\n",
       "      <td>-0.984356</td>\n",
       "      <td>-0.177888</td>\n",
       "      <td>-0.178515</td>\n",
       "      <td>0.249786</td>\n",
       "      <td>0.158414</td>\n",
       "      <td>0.181129</td>\n",
       "      <td>0.261214</td>\n",
       "      <td>0.151362</td>\n",
       "      <td>0.028971</td>\n",
       "      <td>0.005197</td>\n",
       "      <td>0.186110</td>\n",
       "      <td>1.000000</td>\n",
       "      <td>-0.204326</td>\n",
       "      <td>-0.435741</td>\n",
       "      <td>0.324701</td>\n",
       "      <td>0.265201</td>\n",
       "      <td>0.067984</td>\n",
       "    </tr>\n",
       "    <tr>\n",
       "      <th>horsepower</th>\n",
       "      <td>0.163926</td>\n",
       "      <td>0.126947</td>\n",
       "      <td>0.070873</td>\n",
       "      <td>0.353294</td>\n",
       "      <td>0.552623</td>\n",
       "      <td>0.640732</td>\n",
       "      <td>-0.108802</td>\n",
       "      <td>0.750739</td>\n",
       "      <td>0.809769</td>\n",
       "      <td>0.573677</td>\n",
       "      <td>0.080940</td>\n",
       "      <td>-0.204326</td>\n",
       "      <td>1.000000</td>\n",
       "      <td>0.131073</td>\n",
       "      <td>-0.801456</td>\n",
       "      <td>-0.770544</td>\n",
       "      <td>0.808139</td>\n",
       "    </tr>\n",
       "    <tr>\n",
       "      <th>peakrpm</th>\n",
       "      <td>0.476883</td>\n",
       "      <td>0.247668</td>\n",
       "      <td>0.273606</td>\n",
       "      <td>-0.360469</td>\n",
       "      <td>-0.287242</td>\n",
       "      <td>-0.220012</td>\n",
       "      <td>-0.320411</td>\n",
       "      <td>-0.266243</td>\n",
       "      <td>-0.244660</td>\n",
       "      <td>-0.254976</td>\n",
       "      <td>-0.067964</td>\n",
       "      <td>-0.435741</td>\n",
       "      <td>0.131073</td>\n",
       "      <td>1.000000</td>\n",
       "      <td>-0.113544</td>\n",
       "      <td>-0.054275</td>\n",
       "      <td>-0.085267</td>\n",
       "    </tr>\n",
       "    <tr>\n",
       "      <th>citympg</th>\n",
       "      <td>-0.255963</td>\n",
       "      <td>0.012417</td>\n",
       "      <td>-0.035823</td>\n",
       "      <td>-0.470414</td>\n",
       "      <td>-0.670909</td>\n",
       "      <td>-0.642704</td>\n",
       "      <td>-0.048640</td>\n",
       "      <td>-0.757414</td>\n",
       "      <td>-0.653658</td>\n",
       "      <td>-0.584532</td>\n",
       "      <td>-0.042145</td>\n",
       "      <td>0.324701</td>\n",
       "      <td>-0.801456</td>\n",
       "      <td>-0.113544</td>\n",
       "      <td>1.000000</td>\n",
       "      <td>0.971337</td>\n",
       "      <td>-0.685751</td>\n",
       "    </tr>\n",
       "    <tr>\n",
       "      <th>highwaympg</th>\n",
       "      <td>-0.191392</td>\n",
       "      <td>0.036330</td>\n",
       "      <td>0.034606</td>\n",
       "      <td>-0.544082</td>\n",
       "      <td>-0.704662</td>\n",
       "      <td>-0.677218</td>\n",
       "      <td>-0.107358</td>\n",
       "      <td>-0.797465</td>\n",
       "      <td>-0.677470</td>\n",
       "      <td>-0.587012</td>\n",
       "      <td>-0.043931</td>\n",
       "      <td>0.265201</td>\n",
       "      <td>-0.770544</td>\n",
       "      <td>-0.054275</td>\n",
       "      <td>0.971337</td>\n",
       "      <td>1.000000</td>\n",
       "      <td>-0.697599</td>\n",
       "    </tr>\n",
       "    <tr>\n",
       "      <th>price</th>\n",
       "      <td>-0.105679</td>\n",
       "      <td>-0.031835</td>\n",
       "      <td>-0.079978</td>\n",
       "      <td>0.577816</td>\n",
       "      <td>0.682920</td>\n",
       "      <td>0.759325</td>\n",
       "      <td>0.119336</td>\n",
       "      <td>0.835305</td>\n",
       "      <td>0.874145</td>\n",
       "      <td>0.553173</td>\n",
       "      <td>0.079443</td>\n",
       "      <td>0.067984</td>\n",
       "      <td>0.808139</td>\n",
       "      <td>-0.085267</td>\n",
       "      <td>-0.685751</td>\n",
       "      <td>-0.697599</td>\n",
       "      <td>1.000000</td>\n",
       "    </tr>\n",
       "  </tbody>\n",
       "</table>\n",
       "</div>"
      ],
      "text/plain": [
       "                  fueltype  doornumber  symboling  wheelbase  carlength  \\\n",
       "fueltype          1.000000    0.191491   0.194311  -0.308346  -0.212679   \n",
       "doornumber        0.191491    1.000000   0.664073  -0.447357  -0.398568   \n",
       "symboling         0.194311    0.664073   1.000000  -0.531954  -0.357612   \n",
       "wheelbase        -0.308346   -0.447357  -0.531954   1.000000   0.874587   \n",
       "carlength        -0.212679   -0.398568  -0.357612   0.874587   1.000000   \n",
       "carwidth         -0.233880   -0.207168  -0.232919   0.795144   0.841118   \n",
       "carheight        -0.284631   -0.552208  -0.541038   0.589435   0.491029   \n",
       "curbweight       -0.217275   -0.197379  -0.227691   0.776386   0.877728   \n",
       "enginesize       -0.069594   -0.020742  -0.105790   0.569329   0.683360   \n",
       "boreratio        -0.054451   -0.119258  -0.130051   0.488750   0.606454   \n",
       "stroke           -0.241829    0.011082  -0.008735   0.160959   0.129533   \n",
       "compressionratio -0.984356   -0.177888  -0.178515   0.249786   0.158414   \n",
       "horsepower        0.163926    0.126947   0.070873   0.353294   0.552623   \n",
       "peakrpm           0.476883    0.247668   0.273606  -0.360469  -0.287242   \n",
       "citympg          -0.255963    0.012417  -0.035823  -0.470414  -0.670909   \n",
       "highwaympg       -0.191392    0.036330   0.034606  -0.544082  -0.704662   \n",
       "price            -0.105679   -0.031835  -0.079978   0.577816   0.682920   \n",
       "\n",
       "                  carwidth  carheight  curbweight  enginesize  boreratio  \\\n",
       "fueltype         -0.233880  -0.284631   -0.217275   -0.069594  -0.054451   \n",
       "doornumber       -0.207168  -0.552208   -0.197379   -0.020742  -0.119258   \n",
       "symboling        -0.232919  -0.541038   -0.227691   -0.105790  -0.130051   \n",
       "wheelbase         0.795144   0.589435    0.776386    0.569329   0.488750   \n",
       "carlength         0.841118   0.491029    0.877728    0.683360   0.606454   \n",
       "carwidth          1.000000   0.279210    0.867032    0.735433   0.559150   \n",
       "carheight         0.279210   1.000000    0.295572    0.067149   0.171071   \n",
       "curbweight        0.867032   0.295572    1.000000    0.850594   0.648480   \n",
       "enginesize        0.735433   0.067149    0.850594    1.000000   0.583774   \n",
       "boreratio         0.559150   0.171071    0.648480    0.583774   1.000000   \n",
       "stroke            0.182942  -0.055307    0.168790    0.203129  -0.055909   \n",
       "compressionratio  0.181129   0.261214    0.151362    0.028971   0.005197   \n",
       "horsepower        0.640732  -0.108802    0.750739    0.809769   0.573677   \n",
       "peakrpm          -0.220012  -0.320411   -0.266243   -0.244660  -0.254976   \n",
       "citympg          -0.642704  -0.048640   -0.757414   -0.653658  -0.584532   \n",
       "highwaympg       -0.677218  -0.107358   -0.797465   -0.677470  -0.587012   \n",
       "price             0.759325   0.119336    0.835305    0.874145   0.553173   \n",
       "\n",
       "                    stroke  compressionratio  horsepower   peakrpm   citympg  \\\n",
       "fueltype         -0.241829         -0.984356    0.163926  0.476883 -0.255963   \n",
       "doornumber        0.011082         -0.177888    0.126947  0.247668  0.012417   \n",
       "symboling        -0.008735         -0.178515    0.070873  0.273606 -0.035823   \n",
       "wheelbase         0.160959          0.249786    0.353294 -0.360469 -0.470414   \n",
       "carlength         0.129533          0.158414    0.552623 -0.287242 -0.670909   \n",
       "carwidth          0.182942          0.181129    0.640732 -0.220012 -0.642704   \n",
       "carheight        -0.055307          0.261214   -0.108802 -0.320411 -0.048640   \n",
       "curbweight        0.168790          0.151362    0.750739 -0.266243 -0.757414   \n",
       "enginesize        0.203129          0.028971    0.809769 -0.244660 -0.653658   \n",
       "boreratio        -0.055909          0.005197    0.573677 -0.254976 -0.584532   \n",
       "stroke            1.000000          0.186110    0.080940 -0.067964 -0.042145   \n",
       "compressionratio  0.186110          1.000000   -0.204326 -0.435741  0.324701   \n",
       "horsepower        0.080940         -0.204326    1.000000  0.131073 -0.801456   \n",
       "peakrpm          -0.067964         -0.435741    0.131073  1.000000 -0.113544   \n",
       "citympg          -0.042145          0.324701   -0.801456 -0.113544  1.000000   \n",
       "highwaympg       -0.043931          0.265201   -0.770544 -0.054275  0.971337   \n",
       "price             0.079443          0.067984    0.808139 -0.085267 -0.685751   \n",
       "\n",
       "                  highwaympg     price  \n",
       "fueltype           -0.191392 -0.105679  \n",
       "doornumber          0.036330 -0.031835  \n",
       "symboling           0.034606 -0.079978  \n",
       "wheelbase          -0.544082  0.577816  \n",
       "carlength          -0.704662  0.682920  \n",
       "carwidth           -0.677218  0.759325  \n",
       "carheight          -0.107358  0.119336  \n",
       "curbweight         -0.797465  0.835305  \n",
       "enginesize         -0.677470  0.874145  \n",
       "boreratio          -0.587012  0.553173  \n",
       "stroke             -0.043931  0.079443  \n",
       "compressionratio    0.265201  0.067984  \n",
       "horsepower         -0.770544  0.808139  \n",
       "peakrpm            -0.054275 -0.085267  \n",
       "citympg             0.971337 -0.685751  \n",
       "highwaympg          1.000000 -0.697599  \n",
       "price              -0.697599  1.000000  "
      ]
     },
     "execution_count": 176,
     "metadata": {},
     "output_type": "execute_result"
    }
   ],
   "source": [
    "df.corr()"
   ]
  },
  {
   "cell_type": "code",
   "execution_count": 177,
   "id": "32ce41ee",
   "metadata": {},
   "outputs": [
    {
     "data": {
      "text/plain": [
       "array(['rwd', 'fwd', '4wd'], dtype=object)"
      ]
     },
     "execution_count": 177,
     "metadata": {},
     "output_type": "execute_result"
    }
   ],
   "source": [
    "df[\"drivewheel\"].unique()"
   ]
  },
  {
   "cell_type": "code",
   "execution_count": 178,
   "id": "6e5daae5",
   "metadata": {},
   "outputs": [
    {
     "data": {
      "text/plain": [
       "array(['dohc', 'ohcv', 'ohc', 'l', 'rotor', 'ohcf', 'dohcv'], dtype=object)"
      ]
     },
     "execution_count": 178,
     "metadata": {},
     "output_type": "execute_result"
    }
   ],
   "source": [
    "df[\"enginetype\"].unique()"
   ]
  },
  {
   "cell_type": "code",
   "execution_count": 179,
   "id": "0b06d4f4",
   "metadata": {},
   "outputs": [
    {
     "data": {
      "text/html": [
       "<div>\n",
       "<style scoped>\n",
       "    .dataframe tbody tr th:only-of-type {\n",
       "        vertical-align: middle;\n",
       "    }\n",
       "\n",
       "    .dataframe tbody tr th {\n",
       "        vertical-align: top;\n",
       "    }\n",
       "\n",
       "    .dataframe thead th {\n",
       "        text-align: right;\n",
       "    }\n",
       "</style>\n",
       "<table border=\"1\" class=\"dataframe\">\n",
       "  <thead>\n",
       "    <tr style=\"text-align: right;\">\n",
       "      <th></th>\n",
       "      <th>CarName</th>\n",
       "      <th>carbody</th>\n",
       "      <th>drivewheel</th>\n",
       "      <th>enginelocation</th>\n",
       "      <th>fueltype</th>\n",
       "      <th>aspiration</th>\n",
       "      <th>doornumber</th>\n",
       "      <th>cylindernumber</th>\n",
       "      <th>enginetype</th>\n",
       "      <th>fuelsystem</th>\n",
       "      <th>...</th>\n",
       "      <th>curbweight</th>\n",
       "      <th>enginesize</th>\n",
       "      <th>boreratio</th>\n",
       "      <th>stroke</th>\n",
       "      <th>compressionratio</th>\n",
       "      <th>horsepower</th>\n",
       "      <th>peakrpm</th>\n",
       "      <th>citympg</th>\n",
       "      <th>highwaympg</th>\n",
       "      <th>price</th>\n",
       "    </tr>\n",
       "  </thead>\n",
       "  <tbody>\n",
       "    <tr>\n",
       "      <th>0</th>\n",
       "      <td>alfa-romero giulia</td>\n",
       "      <td>convertible</td>\n",
       "      <td>rwd</td>\n",
       "      <td>front</td>\n",
       "      <td>1</td>\n",
       "      <td>std</td>\n",
       "      <td>1</td>\n",
       "      <td>four</td>\n",
       "      <td>dohc</td>\n",
       "      <td>mpfi</td>\n",
       "      <td>...</td>\n",
       "      <td>2548</td>\n",
       "      <td>130</td>\n",
       "      <td>3.47</td>\n",
       "      <td>2.68</td>\n",
       "      <td>9.0</td>\n",
       "      <td>111</td>\n",
       "      <td>5000</td>\n",
       "      <td>21</td>\n",
       "      <td>27</td>\n",
       "      <td>13495.0</td>\n",
       "    </tr>\n",
       "    <tr>\n",
       "      <th>1</th>\n",
       "      <td>alfa-romero stelvio</td>\n",
       "      <td>convertible</td>\n",
       "      <td>rwd</td>\n",
       "      <td>front</td>\n",
       "      <td>1</td>\n",
       "      <td>std</td>\n",
       "      <td>1</td>\n",
       "      <td>four</td>\n",
       "      <td>dohc</td>\n",
       "      <td>mpfi</td>\n",
       "      <td>...</td>\n",
       "      <td>2548</td>\n",
       "      <td>130</td>\n",
       "      <td>3.47</td>\n",
       "      <td>2.68</td>\n",
       "      <td>9.0</td>\n",
       "      <td>111</td>\n",
       "      <td>5000</td>\n",
       "      <td>21</td>\n",
       "      <td>27</td>\n",
       "      <td>16500.0</td>\n",
       "    </tr>\n",
       "    <tr>\n",
       "      <th>2</th>\n",
       "      <td>alfa-romero Quadrifoglio</td>\n",
       "      <td>hatchback</td>\n",
       "      <td>rwd</td>\n",
       "      <td>front</td>\n",
       "      <td>1</td>\n",
       "      <td>std</td>\n",
       "      <td>1</td>\n",
       "      <td>six</td>\n",
       "      <td>ohcv</td>\n",
       "      <td>mpfi</td>\n",
       "      <td>...</td>\n",
       "      <td>2823</td>\n",
       "      <td>152</td>\n",
       "      <td>2.68</td>\n",
       "      <td>3.47</td>\n",
       "      <td>9.0</td>\n",
       "      <td>154</td>\n",
       "      <td>5000</td>\n",
       "      <td>19</td>\n",
       "      <td>26</td>\n",
       "      <td>16500.0</td>\n",
       "    </tr>\n",
       "    <tr>\n",
       "      <th>3</th>\n",
       "      <td>audi 100 ls</td>\n",
       "      <td>sedan</td>\n",
       "      <td>fwd</td>\n",
       "      <td>front</td>\n",
       "      <td>1</td>\n",
       "      <td>std</td>\n",
       "      <td>0</td>\n",
       "      <td>four</td>\n",
       "      <td>ohc</td>\n",
       "      <td>mpfi</td>\n",
       "      <td>...</td>\n",
       "      <td>2337</td>\n",
       "      <td>109</td>\n",
       "      <td>3.19</td>\n",
       "      <td>3.40</td>\n",
       "      <td>10.0</td>\n",
       "      <td>102</td>\n",
       "      <td>5500</td>\n",
       "      <td>24</td>\n",
       "      <td>30</td>\n",
       "      <td>13950.0</td>\n",
       "    </tr>\n",
       "    <tr>\n",
       "      <th>4</th>\n",
       "      <td>audi 100ls</td>\n",
       "      <td>sedan</td>\n",
       "      <td>4wd</td>\n",
       "      <td>front</td>\n",
       "      <td>1</td>\n",
       "      <td>std</td>\n",
       "      <td>0</td>\n",
       "      <td>five</td>\n",
       "      <td>ohc</td>\n",
       "      <td>mpfi</td>\n",
       "      <td>...</td>\n",
       "      <td>2824</td>\n",
       "      <td>136</td>\n",
       "      <td>3.19</td>\n",
       "      <td>3.40</td>\n",
       "      <td>8.0</td>\n",
       "      <td>115</td>\n",
       "      <td>5500</td>\n",
       "      <td>18</td>\n",
       "      <td>22</td>\n",
       "      <td>17450.0</td>\n",
       "    </tr>\n",
       "  </tbody>\n",
       "</table>\n",
       "<p>5 rows × 25 columns</p>\n",
       "</div>"
      ],
      "text/plain": [
       "                    CarName      carbody drivewheel enginelocation  fueltype  \\\n",
       "0        alfa-romero giulia  convertible        rwd          front         1   \n",
       "1       alfa-romero stelvio  convertible        rwd          front         1   \n",
       "2  alfa-romero Quadrifoglio    hatchback        rwd          front         1   \n",
       "3               audi 100 ls        sedan        fwd          front         1   \n",
       "4                audi 100ls        sedan        4wd          front         1   \n",
       "\n",
       "  aspiration  doornumber cylindernumber enginetype fuelsystem  ...  \\\n",
       "0        std           1           four       dohc       mpfi  ...   \n",
       "1        std           1           four       dohc       mpfi  ...   \n",
       "2        std           1            six       ohcv       mpfi  ...   \n",
       "3        std           0           four        ohc       mpfi  ...   \n",
       "4        std           0           five        ohc       mpfi  ...   \n",
       "\n",
       "   curbweight  enginesize  boreratio  stroke  compressionratio  horsepower  \\\n",
       "0        2548         130       3.47    2.68               9.0         111   \n",
       "1        2548         130       3.47    2.68               9.0         111   \n",
       "2        2823         152       2.68    3.47               9.0         154   \n",
       "3        2337         109       3.19    3.40              10.0         102   \n",
       "4        2824         136       3.19    3.40               8.0         115   \n",
       "\n",
       "   peakrpm  citympg  highwaympg    price  \n",
       "0     5000       21          27  13495.0  \n",
       "1     5000       21          27  16500.0  \n",
       "2     5000       19          26  16500.0  \n",
       "3     5500       24          30  13950.0  \n",
       "4     5500       18          22  17450.0  \n",
       "\n",
       "[5 rows x 25 columns]"
      ]
     },
     "execution_count": 179,
     "metadata": {},
     "output_type": "execute_result"
    }
   ],
   "source": [
    "df.head()"
   ]
  },
  {
   "cell_type": "code",
   "execution_count": 180,
   "id": "db7f417f",
   "metadata": {},
   "outputs": [
    {
     "name": "stdout",
     "output_type": "stream",
     "text": [
      "<class 'pandas.core.frame.DataFrame'>\n",
      "Int64Index: 205 entries, 0 to 204\n",
      "Data columns (total 25 columns):\n",
      " #   Column            Non-Null Count  Dtype  \n",
      "---  ------            --------------  -----  \n",
      " 0   CarName           205 non-null    object \n",
      " 1   carbody           205 non-null    object \n",
      " 2   drivewheel        205 non-null    object \n",
      " 3   enginelocation    205 non-null    object \n",
      " 4   fueltype          205 non-null    int64  \n",
      " 5   aspiration        205 non-null    object \n",
      " 6   doornumber        205 non-null    int64  \n",
      " 7   cylindernumber    205 non-null    object \n",
      " 8   enginetype        205 non-null    object \n",
      " 9   fuelsystem        205 non-null    object \n",
      " 10  symboling         205 non-null    int64  \n",
      " 11  wheelbase         205 non-null    float64\n",
      " 12  carlength         205 non-null    float64\n",
      " 13  carwidth          205 non-null    float64\n",
      " 14  carheight         205 non-null    float64\n",
      " 15  curbweight        205 non-null    int64  \n",
      " 16  enginesize        205 non-null    int64  \n",
      " 17  boreratio         205 non-null    float64\n",
      " 18  stroke            205 non-null    float64\n",
      " 19  compressionratio  205 non-null    float64\n",
      " 20  horsepower        205 non-null    int64  \n",
      " 21  peakrpm           205 non-null    int64  \n",
      " 22  citympg           205 non-null    int64  \n",
      " 23  highwaympg        205 non-null    int64  \n",
      " 24  price             205 non-null    float64\n",
      "dtypes: float64(8), int64(9), object(8)\n",
      "memory usage: 41.6+ KB\n"
     ]
    }
   ],
   "source": [
    "df.info()"
   ]
  },
  {
   "cell_type": "code",
   "execution_count": 181,
   "id": "9898a510",
   "metadata": {},
   "outputs": [
    {
     "data": {
      "text/plain": [
       "array(['std', 'turbo'], dtype=object)"
      ]
     },
     "execution_count": 181,
     "metadata": {},
     "output_type": "execute_result"
    }
   ],
   "source": [
    "df[\"aspiration\"].unique()"
   ]
  },
  {
   "cell_type": "code",
   "execution_count": 182,
   "id": "339c19b5",
   "metadata": {},
   "outputs": [
    {
     "data": {
      "text/plain": [
       "0      1\n",
       "1      1\n",
       "2      1\n",
       "3      1\n",
       "4      1\n",
       "      ..\n",
       "200    1\n",
       "201    0\n",
       "202    1\n",
       "203    0\n",
       "204    0\n",
       "Name: aspiration, Length: 205, dtype: int64"
      ]
     },
     "execution_count": 182,
     "metadata": {},
     "output_type": "execute_result"
    }
   ],
   "source": [
    "df[\"aspiration\"] = df[\"aspiration\"].apply(lambda x:1 if \"std\" in x else 0)\n",
    "df[\"aspiration\"].astype(\"int64\")"
   ]
  },
  {
   "cell_type": "code",
   "execution_count": 183,
   "id": "2329e0e9",
   "metadata": {},
   "outputs": [
    {
     "data": {
      "text/plain": [
       "array(['four', 'six', 'five', 'three', 'twelve', 'two', 'eight'],\n",
       "      dtype=object)"
      ]
     },
     "execution_count": 183,
     "metadata": {},
     "output_type": "execute_result"
    }
   ],
   "source": [
    "df[\"cylindernumber\"].unique()"
   ]
  },
  {
   "cell_type": "code",
   "execution_count": 184,
   "id": "58797ec3",
   "metadata": {},
   "outputs": [
    {
     "data": {
      "text/plain": [
       "fueltype           -0.105679\n",
       "aspiration         -0.177926\n",
       "doornumber         -0.031835\n",
       "symboling          -0.079978\n",
       "wheelbase           0.577816\n",
       "carlength           0.682920\n",
       "carwidth            0.759325\n",
       "carheight           0.119336\n",
       "curbweight          0.835305\n",
       "enginesize          0.874145\n",
       "boreratio           0.553173\n",
       "stroke              0.079443\n",
       "compressionratio    0.067984\n",
       "horsepower          0.808139\n",
       "peakrpm            -0.085267\n",
       "citympg            -0.685751\n",
       "highwaympg         -0.697599\n",
       "price               1.000000\n",
       "Name: price, dtype: float64"
      ]
     },
     "execution_count": 184,
     "metadata": {},
     "output_type": "execute_result"
    }
   ],
   "source": [
    "df.corr()[\"price\"]"
   ]
  },
  {
   "cell_type": "code",
   "execution_count": 185,
   "id": "d74637d8",
   "metadata": {},
   "outputs": [
    {
     "name": "stdout",
     "output_type": "stream",
     "text": [
      "<class 'pandas.core.frame.DataFrame'>\n",
      "Int64Index: 205 entries, 0 to 204\n",
      "Data columns (total 25 columns):\n",
      " #   Column            Non-Null Count  Dtype  \n",
      "---  ------            --------------  -----  \n",
      " 0   CarName           205 non-null    object \n",
      " 1   carbody           205 non-null    object \n",
      " 2   drivewheel        205 non-null    object \n",
      " 3   enginelocation    205 non-null    object \n",
      " 4   fueltype          205 non-null    int64  \n",
      " 5   aspiration        205 non-null    int64  \n",
      " 6   doornumber        205 non-null    int64  \n",
      " 7   cylindernumber    205 non-null    object \n",
      " 8   enginetype        205 non-null    object \n",
      " 9   fuelsystem        205 non-null    object \n",
      " 10  symboling         205 non-null    int64  \n",
      " 11  wheelbase         205 non-null    float64\n",
      " 12  carlength         205 non-null    float64\n",
      " 13  carwidth          205 non-null    float64\n",
      " 14  carheight         205 non-null    float64\n",
      " 15  curbweight        205 non-null    int64  \n",
      " 16  enginesize        205 non-null    int64  \n",
      " 17  boreratio         205 non-null    float64\n",
      " 18  stroke            205 non-null    float64\n",
      " 19  compressionratio  205 non-null    float64\n",
      " 20  horsepower        205 non-null    int64  \n",
      " 21  peakrpm           205 non-null    int64  \n",
      " 22  citympg           205 non-null    int64  \n",
      " 23  highwaympg        205 non-null    int64  \n",
      " 24  price             205 non-null    float64\n",
      "dtypes: float64(8), int64(10), object(7)\n",
      "memory usage: 41.6+ KB\n"
     ]
    }
   ],
   "source": [
    "df.info()"
   ]
  },
  {
   "cell_type": "code",
   "execution_count": null,
   "id": "0446e048",
   "metadata": {},
   "outputs": [],
   "source": []
  },
  {
   "cell_type": "code",
   "execution_count": 186,
   "id": "eebfb5a0",
   "metadata": {},
   "outputs": [
    {
     "data": {
      "text/plain": [
       "array(['convertible', 'hatchback', 'sedan', 'wagon', 'hardtop'],\n",
       "      dtype=object)"
      ]
     },
     "execution_count": 186,
     "metadata": {},
     "output_type": "execute_result"
    }
   ],
   "source": [
    "df[\"carbody\"].unique()"
   ]
  },
  {
   "cell_type": "code",
   "execution_count": 187,
   "id": "aa25d637",
   "metadata": {},
   "outputs": [],
   "source": [
    "df_encoded = pd.get_dummies(df,columns=['drivewheel','carbody','enginetype','cylindernumber','fuelsystem'])"
   ]
  },
  {
   "cell_type": "code",
   "execution_count": 188,
   "id": "24fcc176",
   "metadata": {},
   "outputs": [
    {
     "data": {
      "text/plain": [
       "fueltype                -0.105679\n",
       "aspiration              -0.177926\n",
       "doornumber              -0.031835\n",
       "symboling               -0.079978\n",
       "wheelbase                0.577816\n",
       "carlength                0.682920\n",
       "carwidth                 0.759325\n",
       "carheight                0.119336\n",
       "curbweight               0.835305\n",
       "enginesize               0.874145\n",
       "boreratio                0.553173\n",
       "stroke                   0.079443\n",
       "compressionratio         0.067984\n",
       "horsepower               0.808139\n",
       "peakrpm                 -0.085267\n",
       "citympg                 -0.685751\n",
       "highwaympg              -0.697599\n",
       "price                    1.000000\n",
       "drivewheel_4wd          -0.058866\n",
       "drivewheel_fwd          -0.601950\n",
       "drivewheel_rwd           0.638957\n",
       "carbody_convertible      0.187681\n",
       "carbody_hardtop          0.225854\n",
       "carbody_hatchback       -0.262039\n",
       "carbody_sedan            0.125716\n",
       "carbody_wagon           -0.042310\n",
       "enginetype_dohc          0.151429\n",
       "enginetype_dohcv         0.159225\n",
       "enginetype_l             0.042267\n",
       "enginetype_ohc          -0.344270\n",
       "enginetype_ohcf          0.016285\n",
       "enginetype_ohcv          0.385991\n",
       "enginetype_rotor        -0.004544\n",
       "cylindernumber_eight     0.478614\n",
       "cylindernumber_five      0.249606\n",
       "cylindernumber_four     -0.697762\n",
       "cylindernumber_six       0.474978\n",
       "cylindernumber_three    -0.071388\n",
       "cylindernumber_twelve    0.199634\n",
       "cylindernumber_two      -0.004544\n",
       "fuelsystem_1bbl         -0.170945\n",
       "fuelsystem_2bbl         -0.501374\n",
       "fuelsystem_4bbl         -0.017306\n",
       "fuelsystem_idi           0.105679\n",
       "fuelsystem_mfi          -0.002747\n",
       "fuelsystem_mpfi          0.517075\n",
       "fuelsystem_spdi         -0.061475\n",
       "fuelsystem_spfi         -0.019580\n",
       "Name: price, dtype: float64"
      ]
     },
     "execution_count": 188,
     "metadata": {},
     "output_type": "execute_result"
    }
   ],
   "source": [
    "df_encoded.corr()[\"price\"]"
   ]
  },
  {
   "cell_type": "code",
   "execution_count": 189,
   "id": "e300c473",
   "metadata": {},
   "outputs": [
    {
     "data": {
      "text/plain": [
       "array(['alfa-romero giulia', 'alfa-romero stelvio',\n",
       "       'alfa-romero Quadrifoglio', 'audi 100 ls', 'audi 100ls',\n",
       "       'audi fox', 'audi 100ls', 'audi 5000', 'audi 4000',\n",
       "       'audi 5000s (diesel)', 'bmw 320i', 'bmw 320i', 'bmw x1', 'bmw x3',\n",
       "       'bmw z4', 'bmw x4', 'bmw x5', 'bmw x3', 'chevrolet impala',\n",
       "       'chevrolet monte carlo', 'chevrolet vega 2300', 'dodge rampage',\n",
       "       'dodge challenger se', 'dodge d200', 'dodge monaco (sw)',\n",
       "       'dodge colt hardtop', 'dodge colt (sw)', 'dodge coronet custom',\n",
       "       'dodge dart custom', 'dodge coronet custom (sw)', 'honda civic',\n",
       "       'honda civic cvcc', 'honda civic', 'honda accord cvcc',\n",
       "       'honda civic cvcc', 'honda accord lx', 'honda civic 1500 gl',\n",
       "       'honda accord', 'honda civic 1300', 'honda prelude',\n",
       "       'honda accord', 'honda civic', 'honda civic (auto)', 'isuzu MU-X',\n",
       "       'isuzu D-Max ', 'isuzu D-Max V-Cross', 'isuzu D-Max ', 'jaguar xj',\n",
       "       'jaguar xf', 'jaguar xk', 'maxda rx3', 'maxda glc deluxe',\n",
       "       'mazda rx2 coupe', 'mazda rx-4', 'mazda glc deluxe', 'mazda 626',\n",
       "       'mazda glc', 'mazda rx-7 gs', 'mazda glc 4', 'mazda 626',\n",
       "       'mazda glc custom l', 'mazda glc custom', 'mazda rx-4',\n",
       "       'mazda glc deluxe', 'mazda 626', 'mazda glc', 'mazda rx-7 gs',\n",
       "       'buick electra 225 custom', 'buick century luxus (sw)',\n",
       "       'buick century', 'buick skyhawk', 'buick opel isuzu deluxe',\n",
       "       'buick skylark', 'buick century special',\n",
       "       'buick regal sport coupe (turbo)', 'mercury cougar',\n",
       "       'mitsubishi mirage', 'mitsubishi lancer', 'mitsubishi outlander',\n",
       "       'mitsubishi g4', 'mitsubishi mirage g4', 'mitsubishi g4',\n",
       "       'mitsubishi outlander', 'mitsubishi g4', 'mitsubishi mirage g4',\n",
       "       'mitsubishi montero', 'mitsubishi pajero', 'mitsubishi outlander',\n",
       "       'mitsubishi mirage g4', 'Nissan versa', 'nissan gt-r',\n",
       "       'nissan rogue', 'nissan latio', 'nissan titan', 'nissan leaf',\n",
       "       'nissan juke', 'nissan latio', 'nissan note', 'nissan clipper',\n",
       "       'nissan rogue', 'nissan nv200', 'nissan dayz', 'nissan fuga',\n",
       "       'nissan otti', 'nissan teana', 'nissan kicks', 'nissan clipper',\n",
       "       'peugeot 504', 'peugeot 304', 'peugeot 504 (sw)', 'peugeot 504',\n",
       "       'peugeot 504', 'peugeot 604sl', 'peugeot 504',\n",
       "       'peugeot 505s turbo diesel', 'peugeot 504', 'peugeot 504',\n",
       "       'peugeot 604sl', 'plymouth fury iii', 'plymouth cricket',\n",
       "       'plymouth fury iii', 'plymouth satellite custom (sw)',\n",
       "       'plymouth fury gran sedan', 'plymouth valiant', 'plymouth duster',\n",
       "       'porsche macan', 'porcshce panamera', 'porsche cayenne',\n",
       "       'porsche boxter', 'porsche cayenne', 'renault 12tl',\n",
       "       'renault 5 gtl', 'saab 99e', 'saab 99le', 'saab 99le',\n",
       "       'saab 99gle', 'saab 99gle', 'saab 99e', 'subaru', 'subaru dl',\n",
       "       'subaru dl', 'subaru', 'subaru brz', 'subaru baja', 'subaru r1',\n",
       "       'subaru r2', 'subaru trezia', 'subaru tribeca', 'subaru dl',\n",
       "       'subaru dl', 'toyota corona mark ii', 'toyota corona',\n",
       "       'toyota corolla 1200', 'toyota corona hardtop',\n",
       "       'toyota corolla 1600 (sw)', 'toyota carina', 'toyota mark ii',\n",
       "       'toyota corolla 1200', 'toyota corona', 'toyota corolla',\n",
       "       'toyota corona', 'toyota corolla', 'toyota mark ii',\n",
       "       'toyota corolla liftback', 'toyota corona',\n",
       "       'toyota celica gt liftback', 'toyota corolla tercel',\n",
       "       'toyota corona liftback', 'toyota corolla', 'toyota starlet',\n",
       "       'toyota tercel', 'toyota corolla', 'toyota cressida',\n",
       "       'toyota corolla', 'toyota celica gt', 'toyota corona',\n",
       "       'toyota corolla', 'toyota mark ii', 'toyota corolla liftback',\n",
       "       'toyota corona', 'toyota starlet', 'toyouta tercel',\n",
       "       'vokswagen rabbit', 'volkswagen 1131 deluxe sedan',\n",
       "       'volkswagen model 111', 'volkswagen type 3', 'volkswagen 411 (sw)',\n",
       "       'volkswagen super beetle', 'volkswagen dasher', 'vw dasher',\n",
       "       'vw rabbit', 'volkswagen rabbit', 'volkswagen rabbit custom',\n",
       "       'volkswagen dasher', 'volvo 145e (sw)', 'volvo 144ea',\n",
       "       'volvo 244dl', 'volvo 245', 'volvo 264gl', 'volvo diesel',\n",
       "       'volvo 145e (sw)', 'volvo 144ea', 'volvo 244dl', 'volvo 246',\n",
       "       'volvo 264gl'], dtype=object)"
      ]
     },
     "execution_count": 189,
     "metadata": {},
     "output_type": "execute_result"
    }
   ],
   "source": [
    "df_encoded[\"CarName\"].values"
   ]
  },
  {
   "cell_type": "code",
   "execution_count": 190,
   "id": "0bd4931c",
   "metadata": {},
   "outputs": [],
   "source": [
    "df = df.drop(columns=[\"fueltype\",\"aspiration\",\"doornumber\",\"symboling\",\"carheight\",\"stroke\",\"compressionratio\",\"peakrpm\"])"
   ]
  },
  {
   "cell_type": "code",
   "execution_count": 201,
   "id": "3e28c908",
   "metadata": {},
   "outputs": [],
   "source": [
    "df = df.drop(columns=[\"enginetype\"])"
   ]
  },
  {
   "cell_type": "code",
   "execution_count": 202,
   "id": "cf311051",
   "metadata": {},
   "outputs": [],
   "source": [
    "X = df.iloc[:,:-1]"
   ]
  },
  {
   "cell_type": "code",
   "execution_count": 203,
   "id": "dbf4b803",
   "metadata": {},
   "outputs": [
    {
     "data": {
      "text/html": [
       "<div>\n",
       "<style scoped>\n",
       "    .dataframe tbody tr th:only-of-type {\n",
       "        vertical-align: middle;\n",
       "    }\n",
       "\n",
       "    .dataframe tbody tr th {\n",
       "        vertical-align: top;\n",
       "    }\n",
       "\n",
       "    .dataframe thead th {\n",
       "        text-align: right;\n",
       "    }\n",
       "</style>\n",
       "<table border=\"1\" class=\"dataframe\">\n",
       "  <thead>\n",
       "    <tr style=\"text-align: right;\">\n",
       "      <th></th>\n",
       "      <th>CarName</th>\n",
       "      <th>carbody</th>\n",
       "      <th>drivewheel</th>\n",
       "      <th>enginelocation</th>\n",
       "      <th>cylindernumber</th>\n",
       "      <th>fuelsystem</th>\n",
       "      <th>wheelbase</th>\n",
       "      <th>carlength</th>\n",
       "      <th>carwidth</th>\n",
       "      <th>curbweight</th>\n",
       "      <th>enginesize</th>\n",
       "      <th>boreratio</th>\n",
       "      <th>horsepower</th>\n",
       "      <th>citympg</th>\n",
       "      <th>highwaympg</th>\n",
       "    </tr>\n",
       "  </thead>\n",
       "  <tbody>\n",
       "    <tr>\n",
       "      <th>0</th>\n",
       "      <td>alfa-romero giulia</td>\n",
       "      <td>convertible</td>\n",
       "      <td>rwd</td>\n",
       "      <td>front</td>\n",
       "      <td>four</td>\n",
       "      <td>mpfi</td>\n",
       "      <td>88.6</td>\n",
       "      <td>168.8</td>\n",
       "      <td>64.1</td>\n",
       "      <td>2548</td>\n",
       "      <td>130</td>\n",
       "      <td>3.47</td>\n",
       "      <td>111</td>\n",
       "      <td>21</td>\n",
       "      <td>27</td>\n",
       "    </tr>\n",
       "    <tr>\n",
       "      <th>1</th>\n",
       "      <td>alfa-romero stelvio</td>\n",
       "      <td>convertible</td>\n",
       "      <td>rwd</td>\n",
       "      <td>front</td>\n",
       "      <td>four</td>\n",
       "      <td>mpfi</td>\n",
       "      <td>88.6</td>\n",
       "      <td>168.8</td>\n",
       "      <td>64.1</td>\n",
       "      <td>2548</td>\n",
       "      <td>130</td>\n",
       "      <td>3.47</td>\n",
       "      <td>111</td>\n",
       "      <td>21</td>\n",
       "      <td>27</td>\n",
       "    </tr>\n",
       "    <tr>\n",
       "      <th>2</th>\n",
       "      <td>alfa-romero Quadrifoglio</td>\n",
       "      <td>hatchback</td>\n",
       "      <td>rwd</td>\n",
       "      <td>front</td>\n",
       "      <td>six</td>\n",
       "      <td>mpfi</td>\n",
       "      <td>94.5</td>\n",
       "      <td>171.2</td>\n",
       "      <td>65.5</td>\n",
       "      <td>2823</td>\n",
       "      <td>152</td>\n",
       "      <td>2.68</td>\n",
       "      <td>154</td>\n",
       "      <td>19</td>\n",
       "      <td>26</td>\n",
       "    </tr>\n",
       "    <tr>\n",
       "      <th>3</th>\n",
       "      <td>audi 100 ls</td>\n",
       "      <td>sedan</td>\n",
       "      <td>fwd</td>\n",
       "      <td>front</td>\n",
       "      <td>four</td>\n",
       "      <td>mpfi</td>\n",
       "      <td>99.8</td>\n",
       "      <td>176.6</td>\n",
       "      <td>66.2</td>\n",
       "      <td>2337</td>\n",
       "      <td>109</td>\n",
       "      <td>3.19</td>\n",
       "      <td>102</td>\n",
       "      <td>24</td>\n",
       "      <td>30</td>\n",
       "    </tr>\n",
       "    <tr>\n",
       "      <th>4</th>\n",
       "      <td>audi 100ls</td>\n",
       "      <td>sedan</td>\n",
       "      <td>4wd</td>\n",
       "      <td>front</td>\n",
       "      <td>five</td>\n",
       "      <td>mpfi</td>\n",
       "      <td>99.4</td>\n",
       "      <td>176.6</td>\n",
       "      <td>66.4</td>\n",
       "      <td>2824</td>\n",
       "      <td>136</td>\n",
       "      <td>3.19</td>\n",
       "      <td>115</td>\n",
       "      <td>18</td>\n",
       "      <td>22</td>\n",
       "    </tr>\n",
       "    <tr>\n",
       "      <th>...</th>\n",
       "      <td>...</td>\n",
       "      <td>...</td>\n",
       "      <td>...</td>\n",
       "      <td>...</td>\n",
       "      <td>...</td>\n",
       "      <td>...</td>\n",
       "      <td>...</td>\n",
       "      <td>...</td>\n",
       "      <td>...</td>\n",
       "      <td>...</td>\n",
       "      <td>...</td>\n",
       "      <td>...</td>\n",
       "      <td>...</td>\n",
       "      <td>...</td>\n",
       "      <td>...</td>\n",
       "    </tr>\n",
       "    <tr>\n",
       "      <th>200</th>\n",
       "      <td>volvo 145e (sw)</td>\n",
       "      <td>sedan</td>\n",
       "      <td>rwd</td>\n",
       "      <td>front</td>\n",
       "      <td>four</td>\n",
       "      <td>mpfi</td>\n",
       "      <td>109.1</td>\n",
       "      <td>188.8</td>\n",
       "      <td>68.9</td>\n",
       "      <td>2952</td>\n",
       "      <td>141</td>\n",
       "      <td>3.78</td>\n",
       "      <td>114</td>\n",
       "      <td>23</td>\n",
       "      <td>28</td>\n",
       "    </tr>\n",
       "    <tr>\n",
       "      <th>201</th>\n",
       "      <td>volvo 144ea</td>\n",
       "      <td>sedan</td>\n",
       "      <td>rwd</td>\n",
       "      <td>front</td>\n",
       "      <td>four</td>\n",
       "      <td>mpfi</td>\n",
       "      <td>109.1</td>\n",
       "      <td>188.8</td>\n",
       "      <td>68.8</td>\n",
       "      <td>3049</td>\n",
       "      <td>141</td>\n",
       "      <td>3.78</td>\n",
       "      <td>160</td>\n",
       "      <td>19</td>\n",
       "      <td>25</td>\n",
       "    </tr>\n",
       "    <tr>\n",
       "      <th>202</th>\n",
       "      <td>volvo 244dl</td>\n",
       "      <td>sedan</td>\n",
       "      <td>rwd</td>\n",
       "      <td>front</td>\n",
       "      <td>six</td>\n",
       "      <td>mpfi</td>\n",
       "      <td>109.1</td>\n",
       "      <td>188.8</td>\n",
       "      <td>68.9</td>\n",
       "      <td>3012</td>\n",
       "      <td>173</td>\n",
       "      <td>3.58</td>\n",
       "      <td>134</td>\n",
       "      <td>18</td>\n",
       "      <td>23</td>\n",
       "    </tr>\n",
       "    <tr>\n",
       "      <th>203</th>\n",
       "      <td>volvo 246</td>\n",
       "      <td>sedan</td>\n",
       "      <td>rwd</td>\n",
       "      <td>front</td>\n",
       "      <td>six</td>\n",
       "      <td>idi</td>\n",
       "      <td>109.1</td>\n",
       "      <td>188.8</td>\n",
       "      <td>68.9</td>\n",
       "      <td>3217</td>\n",
       "      <td>145</td>\n",
       "      <td>3.01</td>\n",
       "      <td>106</td>\n",
       "      <td>26</td>\n",
       "      <td>27</td>\n",
       "    </tr>\n",
       "    <tr>\n",
       "      <th>204</th>\n",
       "      <td>volvo 264gl</td>\n",
       "      <td>sedan</td>\n",
       "      <td>rwd</td>\n",
       "      <td>front</td>\n",
       "      <td>four</td>\n",
       "      <td>mpfi</td>\n",
       "      <td>109.1</td>\n",
       "      <td>188.8</td>\n",
       "      <td>68.9</td>\n",
       "      <td>3062</td>\n",
       "      <td>141</td>\n",
       "      <td>3.78</td>\n",
       "      <td>114</td>\n",
       "      <td>19</td>\n",
       "      <td>25</td>\n",
       "    </tr>\n",
       "  </tbody>\n",
       "</table>\n",
       "<p>205 rows × 15 columns</p>\n",
       "</div>"
      ],
      "text/plain": [
       "                      CarName      carbody drivewheel enginelocation  \\\n",
       "0          alfa-romero giulia  convertible        rwd          front   \n",
       "1         alfa-romero stelvio  convertible        rwd          front   \n",
       "2    alfa-romero Quadrifoglio    hatchback        rwd          front   \n",
       "3                 audi 100 ls        sedan        fwd          front   \n",
       "4                  audi 100ls        sedan        4wd          front   \n",
       "..                        ...          ...        ...            ...   \n",
       "200           volvo 145e (sw)        sedan        rwd          front   \n",
       "201               volvo 144ea        sedan        rwd          front   \n",
       "202               volvo 244dl        sedan        rwd          front   \n",
       "203                 volvo 246        sedan        rwd          front   \n",
       "204               volvo 264gl        sedan        rwd          front   \n",
       "\n",
       "    cylindernumber fuelsystem  wheelbase  carlength  carwidth  curbweight  \\\n",
       "0             four       mpfi       88.6      168.8      64.1        2548   \n",
       "1             four       mpfi       88.6      168.8      64.1        2548   \n",
       "2              six       mpfi       94.5      171.2      65.5        2823   \n",
       "3             four       mpfi       99.8      176.6      66.2        2337   \n",
       "4             five       mpfi       99.4      176.6      66.4        2824   \n",
       "..             ...        ...        ...        ...       ...         ...   \n",
       "200           four       mpfi      109.1      188.8      68.9        2952   \n",
       "201           four       mpfi      109.1      188.8      68.8        3049   \n",
       "202            six       mpfi      109.1      188.8      68.9        3012   \n",
       "203            six        idi      109.1      188.8      68.9        3217   \n",
       "204           four       mpfi      109.1      188.8      68.9        3062   \n",
       "\n",
       "     enginesize  boreratio  horsepower  citympg  highwaympg  \n",
       "0           130       3.47         111       21          27  \n",
       "1           130       3.47         111       21          27  \n",
       "2           152       2.68         154       19          26  \n",
       "3           109       3.19         102       24          30  \n",
       "4           136       3.19         115       18          22  \n",
       "..          ...        ...         ...      ...         ...  \n",
       "200         141       3.78         114       23          28  \n",
       "201         141       3.78         160       19          25  \n",
       "202         173       3.58         134       18          23  \n",
       "203         145       3.01         106       26          27  \n",
       "204         141       3.78         114       19          25  \n",
       "\n",
       "[205 rows x 15 columns]"
      ]
     },
     "execution_count": 203,
     "metadata": {},
     "output_type": "execute_result"
    }
   ],
   "source": [
    "X"
   ]
  },
  {
   "cell_type": "code",
   "execution_count": 204,
   "id": "9bc3304e",
   "metadata": {},
   "outputs": [],
   "source": [
    "Y = df[\"price\"]"
   ]
  },
  {
   "cell_type": "code",
   "execution_count": 205,
   "id": "a51eb95c",
   "metadata": {},
   "outputs": [
    {
     "data": {
      "text/plain": [
       "0      13495.0\n",
       "1      16500.0\n",
       "2      16500.0\n",
       "3      13950.0\n",
       "4      17450.0\n",
       "        ...   \n",
       "200    16845.0\n",
       "201    19045.0\n",
       "202    21485.0\n",
       "203    22470.0\n",
       "204    22625.0\n",
       "Name: price, Length: 205, dtype: float64"
      ]
     },
     "execution_count": 205,
     "metadata": {},
     "output_type": "execute_result"
    }
   ],
   "source": [
    "Y"
   ]
  },
  {
   "cell_type": "code",
   "execution_count": 206,
   "id": "8e7165d5",
   "metadata": {},
   "outputs": [],
   "source": [
    "from sklearn.model_selection import train_test_split\n",
    "x_train,x_test,y_train,y_test = train_test_split(X,Y,test_size=0.30,random_state=2)"
   ]
  },
  {
   "cell_type": "code",
   "execution_count": 207,
   "id": "80fc88f9",
   "metadata": {},
   "outputs": [
    {
     "data": {
      "text/html": [
       "<div>\n",
       "<style scoped>\n",
       "    .dataframe tbody tr th:only-of-type {\n",
       "        vertical-align: middle;\n",
       "    }\n",
       "\n",
       "    .dataframe tbody tr th {\n",
       "        vertical-align: top;\n",
       "    }\n",
       "\n",
       "    .dataframe thead th {\n",
       "        text-align: right;\n",
       "    }\n",
       "</style>\n",
       "<table border=\"1\" class=\"dataframe\">\n",
       "  <thead>\n",
       "    <tr style=\"text-align: right;\">\n",
       "      <th></th>\n",
       "      <th>CarName</th>\n",
       "      <th>carbody</th>\n",
       "      <th>drivewheel</th>\n",
       "      <th>enginelocation</th>\n",
       "      <th>cylindernumber</th>\n",
       "      <th>fuelsystem</th>\n",
       "      <th>wheelbase</th>\n",
       "      <th>carlength</th>\n",
       "      <th>carwidth</th>\n",
       "      <th>curbweight</th>\n",
       "      <th>enginesize</th>\n",
       "      <th>boreratio</th>\n",
       "      <th>horsepower</th>\n",
       "      <th>citympg</th>\n",
       "      <th>highwaympg</th>\n",
       "    </tr>\n",
       "  </thead>\n",
       "  <tbody>\n",
       "    <tr>\n",
       "      <th>78</th>\n",
       "      <td>mitsubishi outlander</td>\n",
       "      <td>hatchback</td>\n",
       "      <td>fwd</td>\n",
       "      <td>front</td>\n",
       "      <td>four</td>\n",
       "      <td>2bbl</td>\n",
       "      <td>93.7</td>\n",
       "      <td>157.3</td>\n",
       "      <td>64.4</td>\n",
       "      <td>2004</td>\n",
       "      <td>92</td>\n",
       "      <td>2.97</td>\n",
       "      <td>68</td>\n",
       "      <td>31</td>\n",
       "      <td>38</td>\n",
       "    </tr>\n",
       "    <tr>\n",
       "      <th>5</th>\n",
       "      <td>audi fox</td>\n",
       "      <td>sedan</td>\n",
       "      <td>fwd</td>\n",
       "      <td>front</td>\n",
       "      <td>five</td>\n",
       "      <td>mpfi</td>\n",
       "      <td>99.8</td>\n",
       "      <td>177.3</td>\n",
       "      <td>66.3</td>\n",
       "      <td>2507</td>\n",
       "      <td>136</td>\n",
       "      <td>3.19</td>\n",
       "      <td>110</td>\n",
       "      <td>19</td>\n",
       "      <td>25</td>\n",
       "    </tr>\n",
       "    <tr>\n",
       "      <th>198</th>\n",
       "      <td>volvo 264gl</td>\n",
       "      <td>sedan</td>\n",
       "      <td>rwd</td>\n",
       "      <td>front</td>\n",
       "      <td>four</td>\n",
       "      <td>mpfi</td>\n",
       "      <td>104.3</td>\n",
       "      <td>188.8</td>\n",
       "      <td>67.2</td>\n",
       "      <td>3045</td>\n",
       "      <td>130</td>\n",
       "      <td>3.62</td>\n",
       "      <td>162</td>\n",
       "      <td>17</td>\n",
       "      <td>22</td>\n",
       "    </tr>\n",
       "    <tr>\n",
       "      <th>151</th>\n",
       "      <td>toyota corona</td>\n",
       "      <td>hatchback</td>\n",
       "      <td>fwd</td>\n",
       "      <td>front</td>\n",
       "      <td>four</td>\n",
       "      <td>2bbl</td>\n",
       "      <td>95.7</td>\n",
       "      <td>158.7</td>\n",
       "      <td>63.6</td>\n",
       "      <td>2040</td>\n",
       "      <td>92</td>\n",
       "      <td>3.05</td>\n",
       "      <td>62</td>\n",
       "      <td>31</td>\n",
       "      <td>38</td>\n",
       "    </tr>\n",
       "    <tr>\n",
       "      <th>11</th>\n",
       "      <td>bmw 320i</td>\n",
       "      <td>sedan</td>\n",
       "      <td>rwd</td>\n",
       "      <td>front</td>\n",
       "      <td>four</td>\n",
       "      <td>mpfi</td>\n",
       "      <td>101.2</td>\n",
       "      <td>176.8</td>\n",
       "      <td>64.8</td>\n",
       "      <td>2395</td>\n",
       "      <td>108</td>\n",
       "      <td>3.50</td>\n",
       "      <td>101</td>\n",
       "      <td>23</td>\n",
       "      <td>29</td>\n",
       "    </tr>\n",
       "  </tbody>\n",
       "</table>\n",
       "</div>"
      ],
      "text/plain": [
       "                  CarName    carbody drivewheel enginelocation cylindernumber  \\\n",
       "78   mitsubishi outlander  hatchback        fwd          front           four   \n",
       "5                audi fox      sedan        fwd          front           five   \n",
       "198           volvo 264gl      sedan        rwd          front           four   \n",
       "151         toyota corona  hatchback        fwd          front           four   \n",
       "11               bmw 320i      sedan        rwd          front           four   \n",
       "\n",
       "    fuelsystem  wheelbase  carlength  carwidth  curbweight  enginesize  \\\n",
       "78        2bbl       93.7      157.3      64.4        2004          92   \n",
       "5         mpfi       99.8      177.3      66.3        2507         136   \n",
       "198       mpfi      104.3      188.8      67.2        3045         130   \n",
       "151       2bbl       95.7      158.7      63.6        2040          92   \n",
       "11        mpfi      101.2      176.8      64.8        2395         108   \n",
       "\n",
       "     boreratio  horsepower  citympg  highwaympg  \n",
       "78        2.97          68       31          38  \n",
       "5         3.19         110       19          25  \n",
       "198       3.62         162       17          22  \n",
       "151       3.05          62       31          38  \n",
       "11        3.50         101       23          29  "
      ]
     },
     "execution_count": 207,
     "metadata": {},
     "output_type": "execute_result"
    }
   ],
   "source": [
    "x_train.head()"
   ]
  },
  {
   "cell_type": "code",
   "execution_count": 208,
   "id": "f6bc9169",
   "metadata": {},
   "outputs": [
    {
     "data": {
      "text/plain": [
       "78      6669.0\n",
       "5      15250.0\n",
       "198    18420.0\n",
       "151     6338.0\n",
       "11     16925.0\n",
       "        ...   \n",
       "43      6785.0\n",
       "22      6377.0\n",
       "72     35056.0\n",
       "15     30760.0\n",
       "168     9639.0\n",
       "Name: price, Length: 143, dtype: float64"
      ]
     },
     "execution_count": 208,
     "metadata": {},
     "output_type": "execute_result"
    }
   ],
   "source": [
    "y_train"
   ]
  },
  {
   "cell_type": "code",
   "execution_count": 209,
   "id": "518c54a2",
   "metadata": {},
   "outputs": [],
   "source": [
    "from sklearn.compose import ColumnTransformer\n",
    "from sklearn.pipeline import Pipeline\n",
    "from sklearn.preprocessing import OneHotEncoder,StandardScaler\n",
    "from sklearn.metrics import r2_score,mean_absolute_error,mean_squared_error,accuracy_score"
   ]
  },
  {
   "cell_type": "code",
   "execution_count": 210,
   "id": "d7c90cd9",
   "metadata": {},
   "outputs": [],
   "source": [
    "from sklearn.linear_model import LinearRegression,Ridge,Lasso\n",
    "from sklearn.neighbors import KNeighborsRegressor\n",
    "from sklearn.tree import DecisionTreeRegressor\n",
    "from sklearn.ensemble import RandomForestRegressor,GradientBoostingRegressor,AdaBoostRegressor,ExtraTreesRegressor\n",
    "from sklearn.svm import SVR"
   ]
  },
  {
   "cell_type": "code",
   "execution_count": 211,
   "id": "482808a3",
   "metadata": {},
   "outputs": [],
   "source": [
    "scaler = ColumnTransformer(transformers=[('col_tnf1',StandardScaler(),[6,7,8,9,10,11,12,13,14])])"
   ]
  },
  {
   "cell_type": "code",
   "execution_count": 212,
   "id": "437c4ad9",
   "metadata": {},
   "outputs": [],
   "source": [
    "transformer = ColumnTransformer(transformers=[('col_tnf',OneHotEncoder(handle_unknown='ignore'),[0,1,2,3,4,5])])"
   ]
  },
  {
   "cell_type": "code",
   "execution_count": 213,
   "id": "defae8ff",
   "metadata": {},
   "outputs": [],
   "source": [
    "model = LinearRegression()"
   ]
  },
  {
   "cell_type": "code",
   "execution_count": 214,
   "id": "2e2f1458",
   "metadata": {},
   "outputs": [],
   "source": [
    "pipe = Pipeline([\n",
    "    ('s',scaler),\n",
    "    ('t',transformer),\n",
    "    ('m',model)\n",
    "])"
   ]
  },
  {
   "cell_type": "code",
   "execution_count": 215,
   "id": "feacd431",
   "metadata": {},
   "outputs": [
    {
     "data": {
      "text/plain": [
       "Pipeline(steps=[('s',\n",
       "                 ColumnTransformer(transformers=[('col_tnf1', StandardScaler(),\n",
       "                                                  [6, 7, 8, 9, 10, 11, 12, 13,\n",
       "                                                   14])])),\n",
       "                ('t',\n",
       "                 ColumnTransformer(transformers=[('col_tnf',\n",
       "                                                  OneHotEncoder(handle_unknown='ignore'),\n",
       "                                                  [0, 1, 2, 3, 4, 5])])),\n",
       "                ('m', LinearRegression())])"
      ]
     },
     "execution_count": 215,
     "metadata": {},
     "output_type": "execute_result"
    }
   ],
   "source": [
    "pipe.fit(x_train,y_train)"
   ]
  },
  {
   "cell_type": "code",
   "execution_count": 216,
   "id": "02c7be8b",
   "metadata": {},
   "outputs": [],
   "source": [
    "y_pred = pipe.predict(x_test)"
   ]
  },
  {
   "cell_type": "code",
   "execution_count": 217,
   "id": "01287ef8",
   "metadata": {},
   "outputs": [
    {
     "name": "stdout",
     "output_type": "stream",
     "text": [
      "2181.9980657775554\n",
      "2864.0329415057045\n"
     ]
    }
   ],
   "source": [
    "score = r2_score(y_test,y_pred)\n",
    "print(mean_absolute_error(y_test,y_pred))\n",
    "print(np.sqrt(mean_squared_error(y_test,y_pred)))"
   ]
  },
  {
   "cell_type": "code",
   "execution_count": 218,
   "id": "f4c7ac30",
   "metadata": {},
   "outputs": [
    {
     "data": {
      "text/plain": [
       "0.8248684661776728"
      ]
     },
     "execution_count": 218,
     "metadata": {},
     "output_type": "execute_result"
    }
   ],
   "source": [
    "score"
   ]
  },
  {
   "cell_type": "code",
   "execution_count": null,
   "id": "d78e405c",
   "metadata": {},
   "outputs": [],
   "source": []
  },
  {
   "cell_type": "code",
   "execution_count": 219,
   "id": "67b5844b",
   "metadata": {},
   "outputs": [],
   "source": [
    "reseduials = y_test-y_pred"
   ]
  },
  {
   "cell_type": "code",
   "execution_count": 220,
   "id": "4e0028b7",
   "metadata": {},
   "outputs": [
    {
     "name": "stderr",
     "output_type": "stream",
     "text": [
      "C:\\Users\\admin\\anaconda3\\lib\\site-packages\\seaborn\\distributions.py:2619: FutureWarning: `distplot` is a deprecated function and will be removed in a future version. Please adapt your code to use either `displot` (a figure-level function with similar flexibility) or `histplot` (an axes-level function for histograms).\n",
      "  warnings.warn(msg, FutureWarning)\n"
     ]
    },
    {
     "data": {
      "text/plain": [
       "<AxesSubplot:xlabel='price', ylabel='Density'>"
      ]
     },
     "execution_count": 220,
     "metadata": {},
     "output_type": "execute_result"
    },
    {
     "data": {
      "image/png": "[encoded data removed]",
      "text/plain": [
       "<Figure size 640x480 with 1 Axes>"
      ]
     },
     "metadata": {},
     "output_type": "display_data"
    }
   ],
   "source": [
    "sns.distplot(reseduials)"
   ]
  },
  {
   "cell_type": "code",
   "execution_count": 221,
   "id": "3854e7eb",
   "metadata": {},
   "outputs": [
    {
     "name": "stderr",
     "output_type": "stream",
     "text": [
      "C:\\Users\\admin\\anaconda3\\lib\\site-packages\\sklearn\\base.py:450: UserWarning: X does not have valid feature names, but StandardScaler was fitted with feature names\n",
      "  warnings.warn(\n"
     ]
    },
    {
     "data": {
      "text/plain": [
       "array([21484.9966119])"
      ]
     },
     "execution_count": 221,
     "metadata": {},
     "output_type": "execute_result"
    }
   ],
   "source": [
    "(pipe.predict(np.array(df.iloc[202,:-1]).reshape(1,-1)))"
   ]
  },
  {
   "cell_type": "code",
   "execution_count": 222,
   "id": "f232fad1",
   "metadata": {},
   "outputs": [
    {
     "data": {
      "text/plain": [
       "78      6669.0\n",
       "5      15250.0\n",
       "198    18420.0\n",
       "151     6338.0\n",
       "11     16925.0\n",
       "        ...   \n",
       "43      6785.0\n",
       "22      6377.0\n",
       "72     35056.0\n",
       "15     30760.0\n",
       "168     9639.0\n",
       "Name: price, Length: 143, dtype: float64"
      ]
     },
     "execution_count": 222,
     "metadata": {},
     "output_type": "execute_result"
    }
   ],
   "source": [
    "y_train"
   ]
  },
  {
   "cell_type": "code",
   "execution_count": 223,
   "id": "8946f104",
   "metadata": {},
   "outputs": [
    {
     "name": "stderr",
     "output_type": "stream",
     "text": [
      "C:\\Users\\admin\\anaconda3\\lib\\site-packages\\seaborn\\distributions.py:2619: FutureWarning: `distplot` is a deprecated function and will be removed in a future version. Please adapt your code to use either `displot` (a figure-level function with similar flexibility) or `histplot` (an axes-level function for histograms).\n",
      "  warnings.warn(msg, FutureWarning)\n"
     ]
    },
    {
     "data": {
      "text/plain": [
       "<AxesSubplot:xlabel='price', ylabel='Density'>"
      ]
     },
     "execution_count": 223,
     "metadata": {},
     "output_type": "execute_result"
    },
    {
     "data": {
      "image/png": "[encoded data removed]",
      "text/plain": [
       "<Figure size 640x480 with 1 Axes>"
      ]
     },
     "metadata": {},
     "output_type": "display_data"
    }
   ],
   "source": [
    "sns.distplot(np.log(df[\"price\"]))"
   ]
  },
  {
   "cell_type": "code",
   "execution_count": 224,
   "id": "9445e04f",
   "metadata": {},
   "outputs": [
    {
     "data": {
      "text/plain": [
       "array([['toyota tercel', 'hardtop', 'rwd', 'front', 'four', 'mpfi', 98.4,\n",
       "        176.2, 65.6, 2679, 146, 3.62, 116, 24, 30]], dtype=object)"
      ]
     },
     "execution_count": 224,
     "metadata": {},
     "output_type": "execute_result"
    }
   ],
   "source": [
    "np.array(x_train.iloc[120,:]).reshape(1,-1)"
   ]
  },
  {
   "cell_type": "code",
   "execution_count": 225,
   "id": "3c0ce567",
   "metadata": {},
   "outputs": [
    {
     "data": {
      "text/plain": [
       "Int64Index([46], dtype='int64')"
      ]
     },
     "execution_count": 225,
     "metadata": {},
     "output_type": "execute_result"
    }
   ],
   "source": [
    "x_train[x_train[\"CarName\"] == 'isuzu D-Max '].index"
   ]
  },
  {
   "cell_type": "code",
   "execution_count": 226,
   "id": "a438340b",
   "metadata": {},
   "outputs": [
    {
     "data": {
      "text/html": [
       "<div>\n",
       "<style scoped>\n",
       "    .dataframe tbody tr th:only-of-type {\n",
       "        vertical-align: middle;\n",
       "    }\n",
       "\n",
       "    .dataframe tbody tr th {\n",
       "        vertical-align: top;\n",
       "    }\n",
       "\n",
       "    .dataframe thead th {\n",
       "        text-align: right;\n",
       "    }\n",
       "</style>\n",
       "<table border=\"1\" class=\"dataframe\">\n",
       "  <thead>\n",
       "    <tr style=\"text-align: right;\">\n",
       "      <th></th>\n",
       "      <th>CarName</th>\n",
       "      <th>carbody</th>\n",
       "      <th>drivewheel</th>\n",
       "      <th>enginelocation</th>\n",
       "      <th>cylindernumber</th>\n",
       "      <th>fuelsystem</th>\n",
       "      <th>wheelbase</th>\n",
       "      <th>carlength</th>\n",
       "      <th>carwidth</th>\n",
       "      <th>curbweight</th>\n",
       "      <th>enginesize</th>\n",
       "      <th>boreratio</th>\n",
       "      <th>horsepower</th>\n",
       "      <th>citympg</th>\n",
       "      <th>highwaympg</th>\n",
       "      <th>price</th>\n",
       "    </tr>\n",
       "  </thead>\n",
       "  <tbody>\n",
       "    <tr>\n",
       "      <th>172</th>\n",
       "      <td>toyota cressida</td>\n",
       "      <td>convertible</td>\n",
       "      <td>rwd</td>\n",
       "      <td>front</td>\n",
       "      <td>four</td>\n",
       "      <td>mpfi</td>\n",
       "      <td>98.4</td>\n",
       "      <td>176.2</td>\n",
       "      <td>65.6</td>\n",
       "      <td>2975</td>\n",
       "      <td>146</td>\n",
       "      <td>3.62</td>\n",
       "      <td>116</td>\n",
       "      <td>24</td>\n",
       "      <td>30</td>\n",
       "      <td>17669.000</td>\n",
       "    </tr>\n",
       "    <tr>\n",
       "      <th>130</th>\n",
       "      <td>renault 12tl</td>\n",
       "      <td>wagon</td>\n",
       "      <td>fwd</td>\n",
       "      <td>front</td>\n",
       "      <td>four</td>\n",
       "      <td>mpfi</td>\n",
       "      <td>96.1</td>\n",
       "      <td>181.5</td>\n",
       "      <td>66.5</td>\n",
       "      <td>2579</td>\n",
       "      <td>132</td>\n",
       "      <td>3.46</td>\n",
       "      <td>90</td>\n",
       "      <td>23</td>\n",
       "      <td>31</td>\n",
       "      <td>9295.000</td>\n",
       "    </tr>\n",
       "    <tr>\n",
       "      <th>117</th>\n",
       "      <td>peugeot 604sl</td>\n",
       "      <td>sedan</td>\n",
       "      <td>rwd</td>\n",
       "      <td>front</td>\n",
       "      <td>four</td>\n",
       "      <td>mpfi</td>\n",
       "      <td>108.0</td>\n",
       "      <td>186.7</td>\n",
       "      <td>68.3</td>\n",
       "      <td>3130</td>\n",
       "      <td>134</td>\n",
       "      <td>3.61</td>\n",
       "      <td>142</td>\n",
       "      <td>18</td>\n",
       "      <td>24</td>\n",
       "      <td>18150.000</td>\n",
       "    </tr>\n",
       "    <tr>\n",
       "      <th>9</th>\n",
       "      <td>audi 5000s (diesel)</td>\n",
       "      <td>hatchback</td>\n",
       "      <td>4wd</td>\n",
       "      <td>front</td>\n",
       "      <td>five</td>\n",
       "      <td>mpfi</td>\n",
       "      <td>99.5</td>\n",
       "      <td>178.2</td>\n",
       "      <td>67.9</td>\n",
       "      <td>3053</td>\n",
       "      <td>131</td>\n",
       "      <td>3.13</td>\n",
       "      <td>160</td>\n",
       "      <td>16</td>\n",
       "      <td>22</td>\n",
       "      <td>17859.167</td>\n",
       "    </tr>\n",
       "    <tr>\n",
       "      <th>54</th>\n",
       "      <td>mazda glc deluxe</td>\n",
       "      <td>sedan</td>\n",
       "      <td>fwd</td>\n",
       "      <td>front</td>\n",
       "      <td>four</td>\n",
       "      <td>2bbl</td>\n",
       "      <td>93.1</td>\n",
       "      <td>166.8</td>\n",
       "      <td>64.2</td>\n",
       "      <td>1950</td>\n",
       "      <td>91</td>\n",
       "      <td>3.08</td>\n",
       "      <td>68</td>\n",
       "      <td>31</td>\n",
       "      <td>38</td>\n",
       "      <td>7395.000</td>\n",
       "    </tr>\n",
       "  </tbody>\n",
       "</table>\n",
       "</div>"
      ],
      "text/plain": [
       "                 CarName      carbody drivewheel enginelocation  \\\n",
       "172      toyota cressida  convertible        rwd          front   \n",
       "130         renault 12tl        wagon        fwd          front   \n",
       "117        peugeot 604sl        sedan        rwd          front   \n",
       "9    audi 5000s (diesel)    hatchback        4wd          front   \n",
       "54      mazda glc deluxe        sedan        fwd          front   \n",
       "\n",
       "    cylindernumber fuelsystem  wheelbase  carlength  carwidth  curbweight  \\\n",
       "172           four       mpfi       98.4      176.2      65.6        2975   \n",
       "130           four       mpfi       96.1      181.5      66.5        2579   \n",
       "117           four       mpfi      108.0      186.7      68.3        3130   \n",
       "9             five       mpfi       99.5      178.2      67.9        3053   \n",
       "54            four       2bbl       93.1      166.8      64.2        1950   \n",
       "\n",
       "     enginesize  boreratio  horsepower  citympg  highwaympg      price  \n",
       "172         146       3.62         116       24          30  17669.000  \n",
       "130         132       3.46          90       23          31   9295.000  \n",
       "117         134       3.61         142       18          24  18150.000  \n",
       "9           131       3.13         160       16          22  17859.167  \n",
       "54           91       3.08          68       31          38   7395.000  "
      ]
     },
     "execution_count": 226,
     "metadata": {},
     "output_type": "execute_result"
    }
   ],
   "source": [
    "df.sample(5)"
   ]
  },
  {
   "cell_type": "code",
   "execution_count": 235,
   "id": "83618a7b",
   "metadata": {},
   "outputs": [
    {
     "data": {
      "text/plain": [
       "CarName           toyota corona\n",
       "carbody               hatchback\n",
       "drivewheel                  rwd\n",
       "enginelocation            front\n",
       "cylindernumber             four\n",
       "fuelsystem                 2bbl\n",
       "wheelbase                  94.5\n",
       "carlength                 168.7\n",
       "carwidth                   64.0\n",
       "curbweight                 2204\n",
       "enginesize                   98\n",
       "boreratio                  3.19\n",
       "horsepower                   70\n",
       "citympg                      29\n",
       "highwaympg                   34\n",
       "price                    8238.0\n",
       "Name: 164, dtype: object"
      ]
     },
     "execution_count": 235,
     "metadata": {},
     "output_type": "execute_result"
    }
   ],
   "source": [
    "df.iloc[164,:]"
   ]
  },
  {
   "cell_type": "code",
   "execution_count": 228,
   "id": "b2bd2351",
   "metadata": {},
   "outputs": [
    {
     "name": "stderr",
     "output_type": "stream",
     "text": [
      "C:\\Users\\admin\\anaconda3\\lib\\site-packages\\sklearn\\base.py:450: UserWarning: X does not have valid feature names, but StandardScaler was fitted with feature names\n",
      "  warnings.warn(\n"
     ]
    },
    {
     "data": {
      "text/plain": [
       "array([8363.52487493])"
      ]
     },
     "execution_count": 228,
     "metadata": {},
     "output_type": "execute_result"
    }
   ],
   "source": [
    "pipe.predict(np.array(df.iloc[164,:-1]).reshape(1,-1))"
   ]
  },
  {
   "cell_type": "code",
   "execution_count": 229,
   "id": "11b1c27c",
   "metadata": {},
   "outputs": [
    {
     "name": "stderr",
     "output_type": "stream",
     "text": [
      "C:\\Users\\admin\\anaconda3\\lib\\site-packages\\seaborn\\_decorators.py:36: FutureWarning: Pass the following variables as keyword args: x, y. From version 0.12, the only valid positional argument will be `data`, and passing other arguments without an explicit keyword will result in an error or misinterpretation.\n",
      "  warnings.warn(\n"
     ]
    },
    {
     "data": {
      "text/plain": [
       "<AxesSubplot:xlabel='price'>"
      ]
     },
     "execution_count": 229,
     "metadata": {},
     "output_type": "execute_result"
    },
    {
     "data": {
      "image/png": "[encoded data removed]",
      "text/plain": [
       "<Figure size 640x480 with 1 Axes>"
      ]
     },
     "metadata": {},
     "output_type": "display_data"
    }
   ],
   "source": [
    "sns.regplot(y_test,y_pred)"
   ]
  },
  {
   "cell_type": "markdown",
   "id": "371d6166",
   "metadata": {},
   "source": [
    "# Pickle File and Deployment"
   ]
  },
  {
   "cell_type": "code",
   "execution_count": 236,
   "id": "cc37279f",
   "metadata": {},
   "outputs": [],
   "source": [
    "import pickle"
   ]
  },
  {
   "cell_type": "code",
   "execution_count": 237,
   "id": "b43a616d",
   "metadata": {},
   "outputs": [],
   "source": [
    "pickle.dump(pipe,open(\"carmodel.pkl\",\"wb\"))"
   ]
  },
  {
   "cell_type": "code",
   "execution_count": 238,
   "id": "5a4b63e9",
   "metadata": {},
   "outputs": [],
   "source": [
    "pickled_model = pickle.load(open('carmodel.pkl','rb'))"
   ]
  },
  {
   "cell_type": "code",
   "execution_count": 239,
   "id": "d2d8679e",
   "metadata": {},
   "outputs": [
    {
     "name": "stderr",
     "output_type": "stream",
     "text": [
      "C:\\Users\\admin\\anaconda3\\lib\\site-packages\\sklearn\\base.py:450: UserWarning: X does not have valid feature names, but StandardScaler was fitted with feature names\n",
      "  warnings.warn(\n"
     ]
    },
    {
     "data": {
      "text/plain": [
       "array([8363.52487493])"
      ]
     },
     "execution_count": 239,
     "metadata": {},
     "output_type": "execute_result"
    }
   ],
   "source": [
    "pickled_model.predict(np.array(df.iloc[164,:-1]).reshape(1,-1))"
   ]
  },
  {
   "cell_type": "code",
   "execution_count": null,
   "id": "22b2c294",
   "metadata": {},
   "outputs": [],
   "source": []
  },
  {
   "cell_type": "code",
   "execution_count": null,
   "id": "c3742764",
   "metadata": {},
   "outputs": [],
   "source": []
  }
 ],
 "metadata": {
  "kernelspec": {
   "display_name": "Python 3 (ipykernel)",
   "language": "python",
   "name": "python3"
  },
  "language_info": {
   "codemirror_mode": {
    "name": "ipython",
    "version": 3
   },
   "file_extension": ".py",
   "mimetype": "text/x-python",
   "name": "python",
   "nbconvert_exporter": "python",
   "pygments_lexer": "ipython3",
   "version": "3.9.13"
  }
 },
 "nbformat": 4,
 "nbformat_minor": 5
}
